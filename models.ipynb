{
 "cells": [
  {
   "cell_type": "markdown",
   "metadata": {},
   "source": [
    "# Load dataset"
   ]
  },
  {
   "cell_type": "code",
   "execution_count": 108,
   "metadata": {},
   "outputs": [
    {
     "data": {
      "text/html": [
       "<div>\n",
       "<style scoped>\n",
       "    .dataframe tbody tr th:only-of-type {\n",
       "        vertical-align: middle;\n",
       "    }\n",
       "\n",
       "    .dataframe tbody tr th {\n",
       "        vertical-align: top;\n",
       "    }\n",
       "\n",
       "    .dataframe thead th {\n",
       "        text-align: right;\n",
       "    }\n",
       "</style>\n",
       "<table border=\"1\" class=\"dataframe\">\n",
       "  <thead>\n",
       "    <tr style=\"text-align: right;\">\n",
       "      <th></th>\n",
       "      <th>track</th>\n",
       "      <th>artist</th>\n",
       "      <th>uri</th>\n",
       "      <th>danceability</th>\n",
       "      <th>energy</th>\n",
       "      <th>key</th>\n",
       "      <th>loudness</th>\n",
       "      <th>mode</th>\n",
       "      <th>speechiness</th>\n",
       "      <th>acousticness</th>\n",
       "      <th>instrumentalness</th>\n",
       "      <th>liveness</th>\n",
       "      <th>valence</th>\n",
       "      <th>tempo</th>\n",
       "      <th>duration_ms</th>\n",
       "      <th>time_signature</th>\n",
       "      <th>chorus_hit</th>\n",
       "      <th>sections</th>\n",
       "      <th>decade</th>\n",
       "      <th>is_hit</th>\n",
       "    </tr>\n",
       "  </thead>\n",
       "  <tbody>\n",
       "    <tr>\n",
       "      <th>0</th>\n",
       "      <td>Jealous Kind Of Fella</td>\n",
       "      <td>Garland Green</td>\n",
       "      <td>spotify:track:1dtKN6wwlolkM8XZy2y9C1</td>\n",
       "      <td>0.417</td>\n",
       "      <td>0.620</td>\n",
       "      <td>3</td>\n",
       "      <td>-7.727</td>\n",
       "      <td>1</td>\n",
       "      <td>0.0403</td>\n",
       "      <td>0.490</td>\n",
       "      <td>0.000000</td>\n",
       "      <td>0.0779</td>\n",
       "      <td>0.845</td>\n",
       "      <td>185.655</td>\n",
       "      <td>173533</td>\n",
       "      <td>3</td>\n",
       "      <td>32.94975</td>\n",
       "      <td>9</td>\n",
       "      <td>60</td>\n",
       "      <td>1</td>\n",
       "    </tr>\n",
       "    <tr>\n",
       "      <th>1</th>\n",
       "      <td>Initials B.B.</td>\n",
       "      <td>Serge Gainsbourg</td>\n",
       "      <td>spotify:track:5hjsmSnUefdUqzsDogisiX</td>\n",
       "      <td>0.498</td>\n",
       "      <td>0.505</td>\n",
       "      <td>3</td>\n",
       "      <td>-12.475</td>\n",
       "      <td>1</td>\n",
       "      <td>0.0337</td>\n",
       "      <td>0.018</td>\n",
       "      <td>0.107000</td>\n",
       "      <td>0.1760</td>\n",
       "      <td>0.797</td>\n",
       "      <td>101.801</td>\n",
       "      <td>213613</td>\n",
       "      <td>4</td>\n",
       "      <td>48.82510</td>\n",
       "      <td>10</td>\n",
       "      <td>60</td>\n",
       "      <td>0</td>\n",
       "    </tr>\n",
       "    <tr>\n",
       "      <th>2</th>\n",
       "      <td>Melody Twist</td>\n",
       "      <td>Lord Melody</td>\n",
       "      <td>spotify:track:6uk8tI6pwxxdVTNlNOJeJh</td>\n",
       "      <td>0.657</td>\n",
       "      <td>0.649</td>\n",
       "      <td>5</td>\n",
       "      <td>-13.392</td>\n",
       "      <td>1</td>\n",
       "      <td>0.0380</td>\n",
       "      <td>0.846</td>\n",
       "      <td>0.000004</td>\n",
       "      <td>0.1190</td>\n",
       "      <td>0.908</td>\n",
       "      <td>115.940</td>\n",
       "      <td>223960</td>\n",
       "      <td>4</td>\n",
       "      <td>37.22663</td>\n",
       "      <td>12</td>\n",
       "      <td>60</td>\n",
       "      <td>0</td>\n",
       "    </tr>\n",
       "    <tr>\n",
       "      <th>3</th>\n",
       "      <td>Mi Bomba Sonó</td>\n",
       "      <td>Celia Cruz</td>\n",
       "      <td>spotify:track:7aNjMJ05FvUXACPWZ7yJmv</td>\n",
       "      <td>0.590</td>\n",
       "      <td>0.545</td>\n",
       "      <td>7</td>\n",
       "      <td>-12.058</td>\n",
       "      <td>0</td>\n",
       "      <td>0.1040</td>\n",
       "      <td>0.706</td>\n",
       "      <td>0.024600</td>\n",
       "      <td>0.0610</td>\n",
       "      <td>0.967</td>\n",
       "      <td>105.592</td>\n",
       "      <td>157907</td>\n",
       "      <td>4</td>\n",
       "      <td>24.75484</td>\n",
       "      <td>8</td>\n",
       "      <td>60</td>\n",
       "      <td>0</td>\n",
       "    </tr>\n",
       "    <tr>\n",
       "      <th>4</th>\n",
       "      <td>Uravu Solla</td>\n",
       "      <td>P. Susheela</td>\n",
       "      <td>spotify:track:1rQ0clvgkzWr001POOPJWx</td>\n",
       "      <td>0.515</td>\n",
       "      <td>0.765</td>\n",
       "      <td>11</td>\n",
       "      <td>-3.515</td>\n",
       "      <td>0</td>\n",
       "      <td>0.1240</td>\n",
       "      <td>0.857</td>\n",
       "      <td>0.000872</td>\n",
       "      <td>0.2130</td>\n",
       "      <td>0.906</td>\n",
       "      <td>114.617</td>\n",
       "      <td>245600</td>\n",
       "      <td>4</td>\n",
       "      <td>21.79874</td>\n",
       "      <td>14</td>\n",
       "      <td>60</td>\n",
       "      <td>0</td>\n",
       "    </tr>\n",
       "  </tbody>\n",
       "</table>\n",
       "</div>"
      ],
      "text/plain": [
       "                   track            artist  \\\n",
       "0  Jealous Kind Of Fella     Garland Green   \n",
       "1          Initials B.B.  Serge Gainsbourg   \n",
       "2           Melody Twist       Lord Melody   \n",
       "3          Mi Bomba Sonó        Celia Cruz   \n",
       "4            Uravu Solla       P. Susheela   \n",
       "\n",
       "                                    uri  danceability  energy  key  loudness  \\\n",
       "0  spotify:track:1dtKN6wwlolkM8XZy2y9C1         0.417   0.620    3    -7.727   \n",
       "1  spotify:track:5hjsmSnUefdUqzsDogisiX         0.498   0.505    3   -12.475   \n",
       "2  spotify:track:6uk8tI6pwxxdVTNlNOJeJh         0.657   0.649    5   -13.392   \n",
       "3  spotify:track:7aNjMJ05FvUXACPWZ7yJmv         0.590   0.545    7   -12.058   \n",
       "4  spotify:track:1rQ0clvgkzWr001POOPJWx         0.515   0.765   11    -3.515   \n",
       "\n",
       "   mode  speechiness  acousticness  instrumentalness  liveness  valence  \\\n",
       "0     1       0.0403         0.490          0.000000    0.0779    0.845   \n",
       "1     1       0.0337         0.018          0.107000    0.1760    0.797   \n",
       "2     1       0.0380         0.846          0.000004    0.1190    0.908   \n",
       "3     0       0.1040         0.706          0.024600    0.0610    0.967   \n",
       "4     0       0.1240         0.857          0.000872    0.2130    0.906   \n",
       "\n",
       "     tempo  duration_ms  time_signature  chorus_hit  sections  decade  is_hit  \n",
       "0  185.655       173533               3    32.94975         9      60       1  \n",
       "1  101.801       213613               4    48.82510        10      60       0  \n",
       "2  115.940       223960               4    37.22663        12      60       0  \n",
       "3  105.592       157907               4    24.75484         8      60       0  \n",
       "4  114.617       245600               4    21.79874        14      60       0  "
      ]
     },
     "execution_count": 108,
     "metadata": {},
     "output_type": "execute_result"
    }
   ],
   "source": [
    "import pandas as pd\n",
    "import seaborn as sns\n",
    "import matplotlib.pyplot as plt\n",
    "\n",
    "df = pd.DataFrame()\n",
    "for decade in ['60', '70', '80', '90', '00', '10']:\n",
    "    url = f'https://raw.githubusercontent.com/fortyTwo102/The-Spotify-Hit-Predictor-Dataset/master/dataset-of-{decade}s.csv'\n",
    "    new_data = pd.read_csv(url)\n",
    "    new_data['decade'] = int(decade)\n",
    "    new_data['is_hit'] = new_data['target']\n",
    "    new_data = new_data.drop(columns=['target'])\n",
    "    df = df.append(new_data)\n",
    "\n",
    "df.head()"
   ]
  },
  {
   "cell_type": "markdown",
   "metadata": {},
   "source": [
    "# Supporting functions"
   ]
  },
  {
   "cell_type": "code",
   "execution_count": 109,
   "metadata": {},
   "outputs": [],
   "source": [
    "''' print metrics and confusion matrix '''\n",
    "from sklearn.metrics import accuracy_score, recall_score, precision_score, f1_score\n",
    "from sklearn.metrics import confusion_matrix\n",
    "\n",
    "def get_metrics(test_y, preds):\n",
    "    print(\"Accuracy: \", accuracy_score(test_y, preds))\n",
    "    print(\"Precision: \", precision_score(test_y, preds))\n",
    "    print(\"Recall: \", recall_score(test_y, preds))\n",
    "    print(\"F1: \", f1_score(test_y, preds))\n",
    "\n",
    "def get_cm(test_y, preds):\n",
    "    cm=confusion_matrix(test_y, preds)\n",
    "    sns.heatmap(cm,cmap='BuPu',annot=True,fmt='d', xticklabels=['not a hit', 'hit'], yticklabels=['not a hit', 'hit'])"
   ]
  },
  {
   "cell_type": "code",
   "execution_count": 110,
   "metadata": {},
   "outputs": [],
   "source": [
    "# train test split \n",
    "from sklearn.model_selection import train_test_split\n",
    "\n",
    "X = df[['danceability', 'energy', 'mode', 'speechiness', 'acousticness', 'instrumentalness', 'liveness',\n",
    "            'valence', 'tempo', 'duration_ms', 'time_signature', 'chorus_hit',\n",
    "            'sections', 'decade']]\n",
    "y = df.iloc[:, -1]\n",
    "\n",
    "train_X, test_X, train_y, test_y = train_test_split(X,y,test_size=0.2,random_state=45,stratify=y)"
   ]
  },
  {
   "cell_type": "markdown",
   "metadata": {},
   "source": [
    "# Baseline - Logistic Regression \n",
    "\n",
    "### From proposal\n"
   ]
  },
  {
   "cell_type": "code",
   "execution_count": 144,
   "metadata": {},
   "outputs": [],
   "source": [
    "from sklearn.linear_model import LogisticRegression"
   ]
  },
  {
   "cell_type": "code",
   "execution_count": 145,
   "metadata": {},
   "outputs": [],
   "source": [
    "lr_clf = LogisticRegression()\n",
    "lr_clf.fit(train_X, train_y)\n",
    "\n",
    "# Make predictions on the test data\n",
    "lr_preds = lr_clf.predict(test_X)"
   ]
  },
  {
   "cell_type": "code",
   "execution_count": 146,
   "metadata": {},
   "outputs": [
    {
     "name": "stdout",
     "output_type": "stream",
     "text": [
      "Accuracy:  0.5143517392361956\n",
      "Precision:  0.5137914913510987\n",
      "Recall:  0.5346630990026757\n",
      "F1:  0.5240195494099417\n"
     ]
    },
    {
     "data": {
      "image/png": "[encoded data removed]",
      "text/plain": [
       "<Figure size 432x288 with 2 Axes>"
      ]
     },
     "metadata": {
      "needs_background": "light"
     },
     "output_type": "display_data"
    }
   ],
   "source": [
    "get_metrics(test_y, lr_preds)\n",
    "get_cm(test_y, lr_preds)"
   ]
  },
  {
   "cell_type": "markdown",
   "metadata": {},
   "source": [
    "# Logistic Regression with L1 (lasso) Regularization - l2 ridge is default"
   ]
  },
  {
   "cell_type": "code",
   "execution_count": 114,
   "metadata": {},
   "outputs": [],
   "source": [
    "l1_lr_clf = LogisticRegression(penalty='l1', solver='liblinear')\n",
    "l1_lr_clf.fit(train_X, train_y)\n",
    "\n",
    "# Make predictions on the test data\n",
    "lr_l1_preds = l1_lr_clf.predict(test_X)"
   ]
  },
  {
   "cell_type": "code",
   "execution_count": 115,
   "metadata": {},
   "outputs": [
    {
     "name": "stdout",
     "output_type": "stream",
     "text": [
      "Accuracy:  0.7195329603502797\n",
      "Precision:  0.6863514350609127\n",
      "Recall:  0.8085623935782048\n",
      "F1:  0.742461469734197\n"
     ]
    },
    {
     "data": {
      "image/png": "[encoded data removed]",
      "text/plain": [
       "<Figure size 432x288 with 2 Axes>"
      ]
     },
     "metadata": {
      "needs_background": "light"
     },
     "output_type": "display_data"
    }
   ],
   "source": [
    "get_metrics(test_y, lr_l1_preds)\n",
    "get_cm(test_y, lr_l1_preds)"
   ]
  },
  {
   "cell_type": "markdown",
   "metadata": {},
   "source": [
    "Try scaling data - log reg usually needs scaling"
   ]
  },
  {
   "cell_type": "code",
   "execution_count": 116,
   "metadata": {},
   "outputs": [
    {
     "data": {
      "text/plain": [
       "{'C': 29.763514416313132}"
      ]
     },
     "execution_count": 116,
     "metadata": {},
     "output_type": "execute_result"
    }
   ],
   "source": [
    "from sklearn.preprocessing import StandardScaler\n",
    "scaler = StandardScaler()  \n",
    "scaler.fit(train_X)  \n",
    "\n",
    "scaled_train_X = scaler.transform(train_X)  \n",
    "scaled_test_X = scaler.transform(test_X)  \n",
    "\n",
    "param_grid = {\n",
    "    'C': np.logspace(-4, 4, 20)\n",
    "}\n",
    "\n",
    "lr_l1_clf = LogisticRegression(penalty='l1', solver='liblinear')\n",
    "\n",
    "lr_grid_search = GridSearchCV(lr_l1_clf, param_grid, cv=5)\n",
    "lr_grid_search.fit(scaled_train_X, train_y)\n",
    "\n",
    "lr_preds = lr_grid_search.predict(scaled_test_X)\n",
    "\n",
    "lr_grid_search.best_params_"
   ]
  },
  {
   "cell_type": "code",
   "execution_count": 117,
   "metadata": {},
   "outputs": [
    {
     "name": "stdout",
     "output_type": "stream",
     "text": [
      "Accuracy:  0.7205059596205303\n",
      "Precision:  0.6881876686734482\n",
      "Recall:  0.806373145220141\n",
      "F1:  0.7426075268817203\n"
     ]
    },
    {
     "data": {
      "image/png": "[encoded data removed]",
      "text/plain": [
       "<Figure size 432x288 with 2 Axes>"
      ]
     },
     "metadata": {
      "needs_background": "light"
     },
     "output_type": "display_data"
    }
   ],
   "source": [
    "lr_grid_search.fit(scaled_train_X, train_y)\n",
    "\n",
    "# Make predictions on the test data\n",
    "lr_l1_preds = lr_grid_search.predict(scaled_test_X)\n",
    "\n",
    "get_metrics(test_y, lr_l1_preds)\n",
    "get_cm(test_y, lr_l1_preds)"
   ]
  },
  {
   "cell_type": "markdown",
   "metadata": {},
   "source": [
    "Essentially the same as the empty lasso LR model"
   ]
  },
  {
   "cell_type": "markdown",
   "metadata": {},
   "source": [
    "Beats the baseline logistic regression"
   ]
  },
  {
   "cell_type": "markdown",
   "metadata": {},
   "source": [
    "# Naive Bayes"
   ]
  },
  {
   "cell_type": "code",
   "execution_count": 118,
   "metadata": {},
   "outputs": [],
   "source": [
    "from sklearn.naive_bayes import GaussianNB\n",
    "from sklearn.model_selection import GridSearchCV"
   ]
  },
  {
   "cell_type": "code",
   "execution_count": 119,
   "metadata": {},
   "outputs": [
    {
     "name": "stdout",
     "output_type": "stream",
     "text": [
      "Accuracy:  0.5919484310386767\n",
      "Precision:  0.5556537102473498\n",
      "Recall:  0.9180248114813914\n",
      "F1:  0.692286526644043\n"
     ]
    },
    {
     "data": {
      "image/png": "[encoded data removed]",
      "text/plain": [
       "<Figure size 432x288 with 2 Axes>"
      ]
     },
     "metadata": {
      "needs_background": "light"
     },
     "output_type": "display_data"
    }
   ],
   "source": [
    "# empty model\n",
    "nb_clf = GaussianNB()\n",
    "nb_clf.fit(train_X, train_y)\n",
    "nb_preds = nb_clf.predict(test_X)\n",
    "\n",
    "get_metrics(test_y, nb_preds)\n",
    "get_cm(test_y, nb_preds)"
   ]
  },
  {
   "cell_type": "code",
   "execution_count": 120,
   "metadata": {},
   "outputs": [
    {
     "data": {
      "text/plain": [
       "{'var_smoothing': 2.310129700083158e-05}"
      ]
     },
     "execution_count": 120,
     "metadata": {},
     "output_type": "execute_result"
    }
   ],
   "source": [
    "# parameter tuning\n",
    "import numpy as np \n",
    "\n",
    "param_grid = {'var_smoothing': np.logspace(0,-9, num=100)} #https://www.kaggle.com/code/akshaysharma001/naive-bayes-with-hyperpameter-tuning#kln-196\n",
    "\n",
    "# try scaling \n",
    "scaler = StandardScaler()  \n",
    "scaler.fit(train_X)  \n",
    "\n",
    "scaled_train_X = scaler.transform(train_X)  \n",
    "scaled_test_X = scaler.transform(test_X)  \n",
    "\n",
    "nb_clf = GaussianNB()\n",
    "\n",
    "nb_grid_search = GridSearchCV(nb_clf, param_grid, cv=5)\n",
    "nb_grid_search.fit(scaled_train_X, train_y)\n",
    "\n",
    "nb_preds = nb_grid_search.predict(scaled_test_X)\n",
    "\n",
    "nb_grid_search.best_params_"
   ]
  },
  {
   "cell_type": "code",
   "execution_count": 121,
   "metadata": {},
   "outputs": [
    {
     "name": "stdout",
     "output_type": "stream",
     "text": [
      "Accuracy:  0.7051812211140842\n",
      "Precision:  0.6559437973747458\n",
      "Recall:  0.8630503527122355\n",
      "F1:  0.7453781512605043\n"
     ]
    },
    {
     "data": {
      "image/png": "[encoded data removed]",
      "text/plain": [
       "<Figure size 432x288 with 2 Axes>"
      ]
     },
     "metadata": {
      "needs_background": "light"
     },
     "output_type": "display_data"
    }
   ],
   "source": [
    "get_metrics(test_y, nb_preds)\n",
    "get_cm(test_y, nb_preds)"
   ]
  },
  {
   "cell_type": "markdown",
   "metadata": {},
   "source": [
    "in some metrics it is better (marginally)"
   ]
  },
  {
   "cell_type": "markdown",
   "metadata": {},
   "source": [
    "# Decision Tree"
   ]
  },
  {
   "cell_type": "code",
   "execution_count": 122,
   "metadata": {},
   "outputs": [],
   "source": [
    "from sklearn.tree import DecisionTreeClassifier\n",
    "from sklearn.model_selection import GridSearchCV"
   ]
  },
  {
   "cell_type": "code",
   "execution_count": 123,
   "metadata": {},
   "outputs": [
    {
     "name": "stdout",
     "output_type": "stream",
     "text": [
      "Accuracy:  0.7126003405497446\n",
      "Precision:  0.7137964774951077\n",
      "Recall:  0.7098029676477743\n",
      "F1:  0.7117941212342969\n"
     ]
    },
    {
     "data": {
      "image/png": "[encoded data removed]",
      "text/plain": [
       "<Figure size 432x288 with 2 Axes>"
      ]
     },
     "metadata": {
      "needs_background": "light"
     },
     "output_type": "display_data"
    }
   ],
   "source": [
    "# empty model \n",
    "tree_clf = DecisionTreeClassifier()\n",
    "tree_clf.fit(train_X, train_y)\n",
    "tree_preds = tree_clf.predict(test_X)\n",
    "\n",
    "get_metrics(test_y, tree_preds)\n",
    "get_cm(test_y, tree_preds)"
   ]
  },
  {
   "cell_type": "markdown",
   "metadata": {},
   "source": [
    "for computation sake, only test out a few params in the reasonable range of values"
   ]
  },
  {
   "cell_type": "code",
   "execution_count": 127,
   "metadata": {},
   "outputs": [
    {
     "data": {
      "text/plain": [
       "{'criterion': 'gini',\n",
       " 'max_depth': 10,\n",
       " 'min_samples_leaf': 6,\n",
       " 'min_samples_split': 4}"
      ]
     },
     "execution_count": 127,
     "metadata": {},
     "output_type": "execute_result"
    }
   ],
   "source": [
    "# parameter tuning\n",
    "param_grid = {\n",
    "    'criterion': ['gini', 'entropy', 'log_loss'],\n",
    "    'max_depth': [3, 5, 10, 20],\n",
    "    'min_samples_leaf': [1, 2, 6 ],  # overfit with >10,\n",
    "    'min_samples_split': [2, 4, 6] # overfit with >10,\n",
    "}\n",
    "\n",
    "\n",
    "tree_clf = DecisionTreeClassifier()\n",
    "\n",
    "# perform the grid search using 5-fold cross validation\n",
    "tree_grid_search = GridSearchCV(tree_clf, param_grid, cv=5)\n",
    "tree_grid_search.fit(X, y)\n",
    "\n",
    "tree_preds = tree_grid_search.predict(test_X)\n",
    "\n",
    "tree_grid_search.best_params_"
   ]
  },
  {
   "cell_type": "code",
   "execution_count": 128,
   "metadata": {},
   "outputs": [
    {
     "name": "stdout",
     "output_type": "stream",
     "text": [
      "Accuracy:  0.8024811481391388\n",
      "Precision:  0.7499497487437186\n",
      "Recall:  0.907565069326198\n",
      "F1:  0.8212634822804313\n"
     ]
    },
    {
     "data": {
      "image/png": "[encoded data removed]",
      "text/plain": [
       "<Figure size 432x288 with 2 Axes>"
      ]
     },
     "metadata": {
      "needs_background": "light"
     },
     "output_type": "display_data"
    }
   ],
   "source": [
    "get_metrics(test_y, tree_preds)\n",
    "get_cm(test_y, tree_preds)"
   ]
  },
  {
   "cell_type": "markdown",
   "metadata": {},
   "source": [
    "New best "
   ]
  },
  {
   "cell_type": "markdown",
   "metadata": {},
   "source": [
    "# Random Forest "
   ]
  },
  {
   "cell_type": "code",
   "execution_count": 129,
   "metadata": {},
   "outputs": [],
   "source": [
    "from sklearn.ensemble import RandomForestClassifier\n",
    "from sklearn.model_selection import GridSearchCV"
   ]
  },
  {
   "cell_type": "code",
   "execution_count": 130,
   "metadata": {},
   "outputs": [
    {
     "name": "stdout",
     "output_type": "stream",
     "text": [
      "Accuracy:  0.7949404037946971\n",
      "Precision:  0.7683115733569373\n",
      "Recall:  0.8445633665774751\n",
      "F1:  0.8046349942062573\n"
     ]
    },
    {
     "data": {
      "image/png": "[encoded data removed]",
      "text/plain": [
       "<Figure size 432x288 with 2 Axes>"
      ]
     },
     "metadata": {
      "needs_background": "light"
     },
     "output_type": "display_data"
    }
   ],
   "source": [
    "# empty model\n",
    "rf_clf = RandomForestClassifier()\n",
    "rf_clf.fit(train_X, train_y)\n",
    "rf_preds = rf_clf.predict(test_X)\n",
    "\n",
    "get_metrics(test_y, rf_preds)\n",
    "get_cm(test_y, rf_preds)"
   ]
  },
  {
   "cell_type": "code",
   "execution_count": 131,
   "metadata": {},
   "outputs": [
    {
     "data": {
      "text/plain": [
       "{'criterion': 'entropy',\n",
       " 'max_depth': 20,\n",
       " 'min_samples_leaf': 1,\n",
       " 'min_samples_split': 6}"
      ]
     },
     "execution_count": 131,
     "metadata": {},
     "output_type": "execute_result"
    }
   ],
   "source": [
    "# parameter tuning\n",
    "\n",
    "# use same grid as for decision tree \n",
    "param_grid = {\n",
    "    'criterion': ['gini', 'entropy', 'log_loss'],\n",
    "    'max_depth': [3, 5, 10, 20],\n",
    "    'min_samples_leaf': [1, 2, 6 ],  # overfit with >10,\n",
    "    'min_samples_split': [2, 4, 6] # overfit with >10,\n",
    "}\n",
    "\n",
    "\n",
    "rf_clf = RandomForestClassifier()\n",
    "\n",
    "# perform the grid search using 5-fold cross validation\n",
    "rf_grid_search = GridSearchCV(rf_clf, param_grid, cv=5)\n",
    "rf_grid_search.fit(X, y)\n",
    "\n",
    "rf_preds = rf_grid_search.predict(test_X)\n",
    "\n",
    "rf_grid_search.best_params_"
   ]
  },
  {
   "cell_type": "code",
   "execution_count": 132,
   "metadata": {},
   "outputs": [
    {
     "name": "stdout",
     "output_type": "stream",
     "text": [
      "Accuracy:  0.943079542690343\n",
      "Precision:  0.9014767467489531\n",
      "Recall:  0.9948917538311847\n",
      "F1:  0.9458834412580944\n"
     ]
    },
    {
     "data": {
      "image/png": "[encoded data removed]",
      "text/plain": [
       "<Figure size 432x288 with 2 Axes>"
      ]
     },
     "metadata": {
      "needs_background": "light"
     },
     "output_type": "display_data"
    }
   ],
   "source": [
    "get_metrics(test_y, rf_preds)\n",
    "get_cm(test_y, rf_preds)"
   ]
  },
  {
   "cell_type": "markdown",
   "metadata": {},
   "source": [
    "by far the best performing model"
   ]
  },
  {
   "cell_type": "code",
   "execution_count": null,
   "metadata": {},
   "outputs": [],
   "source": []
  },
  {
   "cell_type": "markdown",
   "metadata": {},
   "source": [
    "# Neural Network\n",
    "\n",
    "for testing out diff settings, params, num layers, optimizer, etc we just used trial and error, no algorithmic approach"
   ]
  },
  {
   "cell_type": "markdown",
   "metadata": {},
   "source": [
    "# Pytorch\n",
    "\n",
    "Followed this tutorial: https://towardsdatascience.com/pytorch-tabular-binary-classification-a0368da5bb89\n",
    "\n",
    "Was clearer than the pytorch tutorial offered in class"
   ]
  },
  {
   "cell_type": "code",
   "execution_count": 133,
   "metadata": {},
   "outputs": [],
   "source": [
    "import torch\n",
    "import torch.nn as nn\n",
    "import torch.optim as optim\n",
    "from torch.utils.data import Dataset, DataLoader\n",
    "\n",
    "from sklearn.preprocessing import StandardScaler    "
   ]
  },
  {
   "cell_type": "code",
   "execution_count": 134,
   "metadata": {},
   "outputs": [],
   "source": [
    "# scale data \n",
    "scaler = StandardScaler()\n",
    "X_train = scaler.fit_transform(train_X)\n",
    "X_test = scaler.transform(test_X)\n",
    "\n",
    "# settings \n",
    "BATCH_SIZE = 64"
   ]
  },
  {
   "cell_type": "code",
   "execution_count": 135,
   "metadata": {},
   "outputs": [],
   "source": [
    "class TrainData(Dataset):\n",
    "    \n",
    "    def __init__(self, X_data, y_data):\n",
    "        self.X_data = X_data\n",
    "        self.y_data = y_data\n",
    "        \n",
    "    def __getitem__(self, index):\n",
    "        return self.X_data[index], self.y_data[index]\n",
    "        \n",
    "    def __len__ (self):\n",
    "        return len(self.X_data)\n",
    "\n",
    "class TestData(Dataset):\n",
    "    \n",
    "    def __init__(self, X_data):\n",
    "        self.X_data = X_data\n",
    "        \n",
    "    def __getitem__(self, index):\n",
    "        return self.X_data[index]\n",
    "        \n",
    "    def __len__ (self):\n",
    "        return len(self.X_data)\n",
    "    "
   ]
  },
  {
   "cell_type": "code",
   "execution_count": 136,
   "metadata": {},
   "outputs": [],
   "source": [
    "train_data = TrainData(torch.Tensor(X_train), torch.Tensor(train_y.to_numpy()))\n",
    "test_data = TestData(torch.FloatTensor(X_test))\n",
    "\n",
    "train_loader = DataLoader(dataset=train_data, batch_size=BATCH_SIZE, shuffle=True)\n",
    "test_loader = DataLoader(dataset=test_data, batch_size=1)"
   ]
  },
  {
   "cell_type": "code",
   "execution_count": 137,
   "metadata": {},
   "outputs": [],
   "source": [
    "class BinaryClassification(nn.Module):\n",
    "    def __init__(self):\n",
    "        super(BinaryClassification, self).__init__()\n",
    "        \n",
    "        # Number of input features is 14.\n",
    "        self.layer_1 = nn.Linear(14, 10) \n",
    "        self.layer_2 = nn.Linear(10, 10)\n",
    "        self.layer_3 = nn.Linear(10, 30)\n",
    "        self.layer_4 = nn.Linear(30, 60)\n",
    "        self.layer_5 = nn.Linear(60, 60)\n",
    "        self.layer_6 = nn.Linear(60, 60)\n",
    "        self.layer_out = nn.Linear(60, 1) \n",
    "        \n",
    "        self.relu = nn.ReLU()\n",
    "        self.dropout = nn.Dropout(p=0.1)\n",
    "        \n",
    "        \n",
    "    def forward(self, inputs):\n",
    "        x = self.relu(self.layer_1(inputs))\n",
    "        x = self.relu(self.layer_2(x))\n",
    "        x = self.relu(self.layer_3(x))\n",
    "        x = self.relu(self.layer_4(x))\n",
    "        x = self.relu(self.layer_5(x))\n",
    "        x = self.relu(self.layer_6(x))\n",
    "        x = self.dropout(x)\n",
    "        x = self.layer_out(x)\n",
    "        \n",
    "        return x\n"
   ]
  },
  {
   "cell_type": "code",
   "execution_count": 138,
   "metadata": {},
   "outputs": [
    {
     "name": "stdout",
     "output_type": "stream",
     "text": [
      "BinaryClassification(\n",
      "  (layer_1): Linear(in_features=14, out_features=10, bias=True)\n",
      "  (layer_2): Linear(in_features=10, out_features=10, bias=True)\n",
      "  (layer_3): Linear(in_features=10, out_features=30, bias=True)\n",
      "  (layer_4): Linear(in_features=30, out_features=60, bias=True)\n",
      "  (layer_5): Linear(in_features=60, out_features=60, bias=True)\n",
      "  (layer_6): Linear(in_features=60, out_features=60, bias=True)\n",
      "  (layer_out): Linear(in_features=60, out_features=1, bias=True)\n",
      "  (relu): ReLU()\n",
      "  (dropout): Dropout(p=0.1, inplace=False)\n",
      ")\n"
     ]
    }
   ],
   "source": [
    "device = torch.device(\"cuda:0\" if torch.cuda.is_available() else \"cpu\")\n",
    "\n",
    "LEARNING_RATE = 0.001\n",
    "\n",
    "model = BinaryClassification()\n",
    "model.to(device)\n",
    "print(model)\n",
    "criterion = nn.BCEWithLogitsLoss()\n",
    "\n",
    "# adam is much better than SGD \n",
    "optimizer = optim.Adam(model.parameters(), lr=LEARNING_RATE)\n",
    "# optimizer = optim.SGD(model.parameters(), lr=LEARNING_RATE)\n"
   ]
  },
  {
   "cell_type": "code",
   "execution_count": 139,
   "metadata": {},
   "outputs": [
    {
     "name": "stdout",
     "output_type": "stream",
     "text": [
      "Epoch 001: | Loss: 0.54430 | Acc: 70.895\n",
      "Epoch 002: | Loss: 0.49097 | Acc: 76.395\n",
      "Epoch 003: | Loss: 0.48381 | Acc: 77.000\n",
      "Epoch 004: | Loss: 0.47847 | Acc: 77.171\n",
      "Epoch 005: | Loss: 0.47440 | Acc: 77.453\n",
      "Epoch 006: | Loss: 0.46913 | Acc: 77.780\n",
      "Epoch 007: | Loss: 0.46656 | Acc: 77.984\n",
      "Epoch 008: | Loss: 0.46389 | Acc: 78.156\n",
      "Epoch 009: | Loss: 0.46149 | Acc: 78.397\n",
      "Epoch 010: | Loss: 0.45952 | Acc: 78.461\n",
      "Epoch 011: | Loss: 0.45766 | Acc: 78.621\n",
      "Epoch 012: | Loss: 0.45638 | Acc: 78.825\n",
      "Epoch 013: | Loss: 0.45560 | Acc: 78.702\n",
      "Epoch 014: | Loss: 0.45451 | Acc: 78.786\n",
      "Epoch 015: | Loss: 0.45265 | Acc: 78.780\n",
      "Epoch 016: | Loss: 0.45234 | Acc: 78.975\n",
      "Epoch 017: | Loss: 0.45160 | Acc: 79.109\n",
      "Epoch 018: | Loss: 0.45007 | Acc: 79.010\n",
      "Epoch 019: | Loss: 0.45027 | Acc: 79.049\n",
      "Epoch 020: | Loss: 0.44964 | Acc: 79.016\n",
      "Epoch 021: | Loss: 0.44832 | Acc: 79.008\n",
      "Epoch 022: | Loss: 0.44795 | Acc: 79.198\n",
      "Epoch 023: | Loss: 0.44692 | Acc: 79.160\n",
      "Epoch 024: | Loss: 0.44634 | Acc: 79.253\n",
      "Epoch 025: | Loss: 0.44614 | Acc: 79.239\n",
      "Epoch 026: | Loss: 0.44556 | Acc: 79.255\n",
      "Epoch 027: | Loss: 0.44469 | Acc: 79.405\n",
      "Epoch 028: | Loss: 0.44411 | Acc: 79.333\n",
      "Epoch 029: | Loss: 0.44243 | Acc: 79.372\n",
      "Epoch 030: | Loss: 0.44222 | Acc: 79.562\n",
      "Epoch 031: | Loss: 0.44147 | Acc: 79.572\n",
      "Epoch 032: | Loss: 0.44082 | Acc: 79.484\n",
      "Epoch 033: | Loss: 0.44119 | Acc: 79.601\n",
      "Epoch 034: | Loss: 0.44013 | Acc: 79.566\n",
      "Epoch 035: | Loss: 0.43989 | Acc: 79.636\n",
      "Epoch 036: | Loss: 0.43974 | Acc: 79.772\n",
      "Epoch 037: | Loss: 0.43837 | Acc: 79.776\n",
      "Epoch 038: | Loss: 0.43798 | Acc: 79.751\n",
      "Epoch 039: | Loss: 0.43796 | Acc: 79.677\n",
      "Epoch 040: | Loss: 0.43787 | Acc: 79.730\n",
      "Epoch 041: | Loss: 0.43604 | Acc: 79.743\n",
      "Epoch 042: | Loss: 0.43694 | Acc: 79.755\n",
      "Epoch 043: | Loss: 0.43626 | Acc: 79.813\n",
      "Epoch 044: | Loss: 0.43509 | Acc: 79.979\n",
      "Epoch 045: | Loss: 0.43539 | Acc: 79.874\n",
      "Epoch 046: | Loss: 0.43530 | Acc: 79.805\n",
      "Epoch 047: | Loss: 0.43436 | Acc: 80.000\n",
      "Epoch 048: | Loss: 0.43387 | Acc: 79.965\n",
      "Epoch 049: | Loss: 0.43460 | Acc: 79.959\n",
      "Epoch 050: | Loss: 0.43363 | Acc: 79.955\n",
      "Epoch 051: | Loss: 0.43448 | Acc: 79.887\n",
      "Epoch 052: | Loss: 0.43363 | Acc: 80.144\n",
      "Epoch 053: | Loss: 0.43248 | Acc: 79.963\n",
      "Epoch 054: | Loss: 0.43229 | Acc: 80.021\n",
      "Epoch 055: | Loss: 0.43223 | Acc: 80.230\n",
      "Epoch 056: | Loss: 0.43155 | Acc: 80.123\n",
      "Epoch 057: | Loss: 0.43102 | Acc: 80.056\n",
      "Epoch 058: | Loss: 0.43136 | Acc: 80.228\n",
      "Epoch 059: | Loss: 0.43163 | Acc: 80.095\n",
      "Epoch 060: | Loss: 0.43012 | Acc: 80.243\n",
      "Epoch 061: | Loss: 0.43008 | Acc: 80.183\n",
      "Epoch 062: | Loss: 0.43056 | Acc: 80.082\n",
      "Epoch 063: | Loss: 0.42912 | Acc: 80.200\n",
      "Epoch 064: | Loss: 0.43030 | Acc: 80.222\n",
      "Epoch 065: | Loss: 0.42825 | Acc: 80.296\n",
      "Epoch 066: | Loss: 0.42894 | Acc: 80.200\n",
      "Epoch 067: | Loss: 0.42813 | Acc: 80.263\n",
      "Epoch 068: | Loss: 0.42751 | Acc: 80.300\n",
      "Epoch 069: | Loss: 0.42851 | Acc: 80.292\n",
      "Epoch 070: | Loss: 0.42742 | Acc: 80.224\n",
      "Epoch 071: | Loss: 0.42768 | Acc: 80.350\n",
      "Epoch 072: | Loss: 0.42734 | Acc: 80.317\n",
      "Epoch 073: | Loss: 0.42728 | Acc: 80.307\n",
      "Epoch 074: | Loss: 0.42658 | Acc: 80.397\n",
      "Epoch 075: | Loss: 0.42615 | Acc: 80.430\n",
      "Epoch 076: | Loss: 0.42524 | Acc: 80.644\n",
      "Epoch 077: | Loss: 0.42631 | Acc: 80.580\n",
      "Epoch 078: | Loss: 0.42616 | Acc: 80.447\n",
      "Epoch 079: | Loss: 0.42601 | Acc: 80.486\n",
      "Epoch 080: | Loss: 0.42503 | Acc: 80.418\n",
      "Epoch 081: | Loss: 0.42477 | Acc: 80.566\n",
      "Epoch 082: | Loss: 0.42501 | Acc: 80.436\n",
      "Epoch 083: | Loss: 0.42418 | Acc: 80.564\n",
      "Epoch 084: | Loss: 0.42420 | Acc: 80.531\n",
      "Epoch 085: | Loss: 0.42355 | Acc: 80.488\n",
      "Epoch 086: | Loss: 0.42345 | Acc: 80.451\n",
      "Epoch 087: | Loss: 0.42319 | Acc: 80.449\n",
      "Epoch 088: | Loss: 0.42287 | Acc: 80.597\n",
      "Epoch 089: | Loss: 0.42272 | Acc: 80.428\n",
      "Epoch 090: | Loss: 0.42242 | Acc: 80.553\n",
      "Epoch 091: | Loss: 0.42248 | Acc: 80.527\n",
      "Epoch 092: | Loss: 0.42196 | Acc: 80.541\n",
      "Epoch 093: | Loss: 0.42136 | Acc: 80.706\n",
      "Epoch 094: | Loss: 0.42128 | Acc: 80.652\n",
      "Epoch 095: | Loss: 0.41948 | Acc: 80.710\n",
      "Epoch 096: | Loss: 0.42088 | Acc: 80.640\n",
      "Epoch 097: | Loss: 0.42016 | Acc: 80.638\n",
      "Epoch 098: | Loss: 0.41988 | Acc: 80.661\n",
      "Epoch 099: | Loss: 0.42138 | Acc: 80.644\n",
      "Epoch 100: | Loss: 0.41854 | Acc: 80.745\n"
     ]
    }
   ],
   "source": [
    "def binary_acc(y_pred, y_test):\n",
    "    y_pred_tag = torch.round(torch.sigmoid(y_pred))\n",
    "\n",
    "    correct_results_sum = (y_pred_tag == y_test).sum().float()\n",
    "    acc = correct_results_sum/y_test.shape[0]\n",
    "    acc = torch.round(acc * 100)\n",
    "    \n",
    "    return acc\n",
    "\n",
    "EPOCHS = 100 # 50\n",
    "\n",
    "model.train()\n",
    "for e in range(1, EPOCHS+1):\n",
    "    epoch_loss = 0\n",
    "    epoch_acc = 0\n",
    "    for X_batch, y_batch in train_loader:\n",
    "        X_batch, y_batch = X_batch.to(device), y_batch.to(device)\n",
    "        optimizer.zero_grad()\n",
    "        \n",
    "        y_pred = model(X_batch)\n",
    "        \n",
    "        loss = criterion(y_pred, y_batch.unsqueeze(1))\n",
    "        acc = binary_acc(y_pred, y_batch.unsqueeze(1))\n",
    "        \n",
    "        loss.backward()\n",
    "        optimizer.step()\n",
    "        \n",
    "        epoch_loss += loss.item()\n",
    "        epoch_acc += acc.item()\n",
    "        \n",
    "\n",
    "    print(f'Epoch {e+0:03}: | Loss: {epoch_loss/len(train_loader):.5f} | Acc: {epoch_acc/len(train_loader):.3f}')"
   ]
  },
  {
   "cell_type": "code",
   "execution_count": 140,
   "metadata": {},
   "outputs": [],
   "source": [
    "nn_preds = []\n",
    "model.eval()\n",
    "with torch.no_grad():\n",
    "    for X_batch in test_loader:\n",
    "        X_batch = X_batch.to(device)\n",
    "        y_test_pred = model(X_batch)\n",
    "        y_test_pred = torch.sigmoid(y_test_pred)\n",
    "        y_pred_tag = torch.round(y_test_pred)\n",
    "        nn_preds.append(y_pred_tag.cpu().numpy())\n",
    "\n",
    "nn_preds = [a.squeeze().tolist() for a in nn_preds]\n"
   ]
  },
  {
   "cell_type": "code",
   "execution_count": 141,
   "metadata": {},
   "outputs": [
    {
     "name": "stdout",
     "output_type": "stream",
     "text": [
      "Accuracy:  0.7908051568961323\n",
      "Precision:  0.7507866582756451\n",
      "Recall:  0.8705910970566773\n",
      "F1:  0.8062626717729219\n"
     ]
    },
    {
     "data": {
      "image/png": "[encoded data removed]",
      "text/plain": [
       "<Figure size 432x288 with 2 Axes>"
      ]
     },
     "metadata": {
      "needs_background": "light"
     },
     "output_type": "display_data"
    }
   ],
   "source": [
    "get_metrics(test_y, nn_preds)\n",
    "get_cm(test_y, nn_preds)"
   ]
  },
  {
   "cell_type": "markdown",
   "metadata": {},
   "source": [
    "# Results"
   ]
  },
  {
   "cell_type": "code",
   "execution_count": 147,
   "metadata": {},
   "outputs": [
    {
     "data": {
      "text/html": [
       "<div>\n",
       "<style scoped>\n",
       "    .dataframe tbody tr th:only-of-type {\n",
       "        vertical-align: middle;\n",
       "    }\n",
       "\n",
       "    .dataframe tbody tr th {\n",
       "        vertical-align: top;\n",
       "    }\n",
       "\n",
       "    .dataframe thead th {\n",
       "        text-align: right;\n",
       "    }\n",
       "</style>\n",
       "<table border=\"1\" class=\"dataframe\">\n",
       "  <thead>\n",
       "    <tr style=\"text-align: right;\">\n",
       "      <th></th>\n",
       "      <th>Model</th>\n",
       "      <th>Accuracy</th>\n",
       "      <th>Precision</th>\n",
       "      <th>Recall</th>\n",
       "      <th>F1</th>\n",
       "    </tr>\n",
       "  </thead>\n",
       "  <tbody>\n",
       "    <tr>\n",
       "      <th>0</th>\n",
       "      <td>Logistic Regression - Baseline</td>\n",
       "      <td>0.514352</td>\n",
       "      <td>0.513791</td>\n",
       "      <td>0.534663</td>\n",
       "      <td>0.524020</td>\n",
       "    </tr>\n",
       "    <tr>\n",
       "      <th>1</th>\n",
       "      <td>Lasso Logistic Regression</td>\n",
       "      <td>0.720506</td>\n",
       "      <td>0.688188</td>\n",
       "      <td>0.806373</td>\n",
       "      <td>0.742608</td>\n",
       "    </tr>\n",
       "    <tr>\n",
       "      <th>2</th>\n",
       "      <td>Naive Bayes</td>\n",
       "      <td>0.705181</td>\n",
       "      <td>0.655944</td>\n",
       "      <td>0.863050</td>\n",
       "      <td>0.745378</td>\n",
       "    </tr>\n",
       "    <tr>\n",
       "      <th>3</th>\n",
       "      <td>Decision Tree</td>\n",
       "      <td>0.802481</td>\n",
       "      <td>0.749950</td>\n",
       "      <td>0.907565</td>\n",
       "      <td>0.821263</td>\n",
       "    </tr>\n",
       "    <tr>\n",
       "      <th>4</th>\n",
       "      <td>Random Forest</td>\n",
       "      <td>0.943080</td>\n",
       "      <td>0.901477</td>\n",
       "      <td>0.994892</td>\n",
       "      <td>0.945883</td>\n",
       "    </tr>\n",
       "    <tr>\n",
       "      <th>5</th>\n",
       "      <td>Neural Net</td>\n",
       "      <td>0.790805</td>\n",
       "      <td>0.750787</td>\n",
       "      <td>0.870591</td>\n",
       "      <td>0.806263</td>\n",
       "    </tr>\n",
       "  </tbody>\n",
       "</table>\n",
       "</div>"
      ],
      "text/plain": [
       "                            Model  Accuracy  Precision    Recall        F1\n",
       "0  Logistic Regression - Baseline  0.514352   0.513791  0.534663  0.524020\n",
       "1       Lasso Logistic Regression  0.720506   0.688188  0.806373  0.742608\n",
       "2                     Naive Bayes  0.705181   0.655944  0.863050  0.745378\n",
       "3                   Decision Tree  0.802481   0.749950  0.907565  0.821263\n",
       "4                   Random Forest  0.943080   0.901477  0.994892  0.945883\n",
       "5                      Neural Net  0.790805   0.750787  0.870591  0.806263"
      ]
     },
     "execution_count": 147,
     "metadata": {},
     "output_type": "execute_result"
    }
   ],
   "source": [
    "results = pd.DataFrame()\n",
    "\n",
    "model_preds = {'Logistic Regression - Baseline' : lr_preds\n",
    "            , 'Lasso Logistic Regression' : lr_l1_preds\n",
    "            , 'Naive Bayes': nb_preds\n",
    "            , 'Decision Tree': tree_preds\n",
    "            , 'Random Forest': rf_preds\n",
    "            , 'Neural Net': nn_preds}\n",
    "\n",
    "for model in model_preds.keys():\n",
    "\n",
    "    preds = model_preds[model]\n",
    "\n",
    "    results = results.append({'Model':model\n",
    "                , 'Accuracy': accuracy_score(test_y, preds)\n",
    "                , 'Precision': precision_score(test_y, preds)\n",
    "                , 'Recall': recall_score(test_y, preds)\n",
    "                , 'F1': f1_score(test_y, preds)}\n",
    "                , ignore_index=True)\n",
    "\n",
    "results[['Model', 'Accuracy', 'Precision', 'Recall', 'F1']]"
   ]
  },
  {
   "cell_type": "markdown",
   "metadata": {},
   "source": [
    "Determine best by F1 score since it is harmonic mean of precision and recall and is therefore most reflective of the confusion matrixs"
   ]
  },
  {
   "cell_type": "code",
   "execution_count": 148,
   "metadata": {},
   "outputs": [
    {
     "data": {
      "text/html": [
       "<div>\n",
       "<style scoped>\n",
       "    .dataframe tbody tr th:only-of-type {\n",
       "        vertical-align: middle;\n",
       "    }\n",
       "\n",
       "    .dataframe tbody tr th {\n",
       "        vertical-align: top;\n",
       "    }\n",
       "\n",
       "    .dataframe thead th {\n",
       "        text-align: right;\n",
       "    }\n",
       "</style>\n",
       "<table border=\"1\" class=\"dataframe\">\n",
       "  <thead>\n",
       "    <tr style=\"text-align: right;\">\n",
       "      <th></th>\n",
       "      <th>Model</th>\n",
       "      <th>Accuracy</th>\n",
       "      <th>Precision</th>\n",
       "      <th>Recall</th>\n",
       "      <th>F1</th>\n",
       "    </tr>\n",
       "  </thead>\n",
       "  <tbody>\n",
       "    <tr>\n",
       "      <th>4</th>\n",
       "      <td>Random Forest</td>\n",
       "      <td>0.943080</td>\n",
       "      <td>0.901477</td>\n",
       "      <td>0.994892</td>\n",
       "      <td>0.945883</td>\n",
       "    </tr>\n",
       "    <tr>\n",
       "      <th>3</th>\n",
       "      <td>Decision Tree</td>\n",
       "      <td>0.802481</td>\n",
       "      <td>0.749950</td>\n",
       "      <td>0.907565</td>\n",
       "      <td>0.821263</td>\n",
       "    </tr>\n",
       "    <tr>\n",
       "      <th>5</th>\n",
       "      <td>Neural Net</td>\n",
       "      <td>0.790805</td>\n",
       "      <td>0.750787</td>\n",
       "      <td>0.870591</td>\n",
       "      <td>0.806263</td>\n",
       "    </tr>\n",
       "    <tr>\n",
       "      <th>2</th>\n",
       "      <td>Naive Bayes</td>\n",
       "      <td>0.705181</td>\n",
       "      <td>0.655944</td>\n",
       "      <td>0.863050</td>\n",
       "      <td>0.745378</td>\n",
       "    </tr>\n",
       "    <tr>\n",
       "      <th>1</th>\n",
       "      <td>Lasso Logistic Regression</td>\n",
       "      <td>0.720506</td>\n",
       "      <td>0.688188</td>\n",
       "      <td>0.806373</td>\n",
       "      <td>0.742608</td>\n",
       "    </tr>\n",
       "    <tr>\n",
       "      <th>0</th>\n",
       "      <td>Logistic Regression - Baseline</td>\n",
       "      <td>0.514352</td>\n",
       "      <td>0.513791</td>\n",
       "      <td>0.534663</td>\n",
       "      <td>0.524020</td>\n",
       "    </tr>\n",
       "  </tbody>\n",
       "</table>\n",
       "</div>"
      ],
      "text/plain": [
       "                            Model  Accuracy  Precision    Recall        F1\n",
       "4                   Random Forest  0.943080   0.901477  0.994892  0.945883\n",
       "3                   Decision Tree  0.802481   0.749950  0.907565  0.821263\n",
       "5                      Neural Net  0.790805   0.750787  0.870591  0.806263\n",
       "2                     Naive Bayes  0.705181   0.655944  0.863050  0.745378\n",
       "1       Lasso Logistic Regression  0.720506   0.688188  0.806373  0.742608\n",
       "0  Logistic Regression - Baseline  0.514352   0.513791  0.534663  0.524020"
      ]
     },
     "execution_count": 148,
     "metadata": {},
     "output_type": "execute_result"
    }
   ],
   "source": [
    "results[['Model', 'Accuracy', 'Precision', 'Recall', 'F1']].sort_values(by=['F1'], ascending=False)"
   ]
  },
  {
   "cell_type": "code",
   "execution_count": null,
   "metadata": {},
   "outputs": [],
   "source": []
  }
 ],
 "metadata": {
  "interpreter": {
   "hash": "2bf6ca1cf4bbd55d2457dc6e8fa83213c9fcabf0e2c24ef39d0aa93ae406cc9a"
  },
  "kernelspec": {
   "display_name": "Python 3.8.5 ('av')",
   "language": "python",
   "name": "python3"
  },
  "language_info": {
   "codemirror_mode": {
    "name": "ipython",
    "version": 3
   },
   "file_extension": ".py",
   "mimetype": "text/x-python",
   "name": "python",
   "nbconvert_exporter": "python",
   "pygments_lexer": "ipython3",
   "version": "3.8.5"
  },
  "orig_nbformat": 4
 },
 "nbformat": 4,
 "nbformat_minor": 2
}
