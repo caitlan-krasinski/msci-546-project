{
 "cells": [
  {
   "cell_type": "markdown",
   "metadata": {},
   "source": [
    "# Load dataset"
   ]
  },
  {
   "cell_type": "code",
   "execution_count": 11,
   "metadata": {},
   "outputs": [],
   "source": [
    "import pandas as pd\n",
    "import seaborn as sns\n",
    "import matplotlib.pyplot as plt\n",
    "import numpy as np"
   ]
  },
  {
   "cell_type": "code",
   "execution_count": 1,
   "metadata": {},
   "outputs": [
    {
     "data": {
      "text/html": [
       "<div>\n",
       "<style scoped>\n",
       "    .dataframe tbody tr th:only-of-type {\n",
       "        vertical-align: middle;\n",
       "    }\n",
       "\n",
       "    .dataframe tbody tr th {\n",
       "        vertical-align: top;\n",
       "    }\n",
       "\n",
       "    .dataframe thead th {\n",
       "        text-align: right;\n",
       "    }\n",
       "</style>\n",
       "<table border=\"1\" class=\"dataframe\">\n",
       "  <thead>\n",
       "    <tr style=\"text-align: right;\">\n",
       "      <th></th>\n",
       "      <th>track</th>\n",
       "      <th>artist</th>\n",
       "      <th>uri</th>\n",
       "      <th>danceability</th>\n",
       "      <th>energy</th>\n",
       "      <th>key</th>\n",
       "      <th>loudness</th>\n",
       "      <th>mode</th>\n",
       "      <th>speechiness</th>\n",
       "      <th>acousticness</th>\n",
       "      <th>instrumentalness</th>\n",
       "      <th>liveness</th>\n",
       "      <th>valence</th>\n",
       "      <th>tempo</th>\n",
       "      <th>duration_ms</th>\n",
       "      <th>time_signature</th>\n",
       "      <th>chorus_hit</th>\n",
       "      <th>sections</th>\n",
       "      <th>decade</th>\n",
       "      <th>is_hit</th>\n",
       "    </tr>\n",
       "  </thead>\n",
       "  <tbody>\n",
       "    <tr>\n",
       "      <th>0</th>\n",
       "      <td>Jealous Kind Of Fella</td>\n",
       "      <td>Garland Green</td>\n",
       "      <td>spotify:track:1dtKN6wwlolkM8XZy2y9C1</td>\n",
       "      <td>0.417</td>\n",
       "      <td>0.620</td>\n",
       "      <td>3</td>\n",
       "      <td>-7.727</td>\n",
       "      <td>1</td>\n",
       "      <td>0.0403</td>\n",
       "      <td>0.490</td>\n",
       "      <td>0.000000</td>\n",
       "      <td>0.0779</td>\n",
       "      <td>0.845</td>\n",
       "      <td>185.655</td>\n",
       "      <td>173533</td>\n",
       "      <td>3</td>\n",
       "      <td>32.94975</td>\n",
       "      <td>9</td>\n",
       "      <td>60</td>\n",
       "      <td>1</td>\n",
       "    </tr>\n",
       "    <tr>\n",
       "      <th>1</th>\n",
       "      <td>Initials B.B.</td>\n",
       "      <td>Serge Gainsbourg</td>\n",
       "      <td>spotify:track:5hjsmSnUefdUqzsDogisiX</td>\n",
       "      <td>0.498</td>\n",
       "      <td>0.505</td>\n",
       "      <td>3</td>\n",
       "      <td>-12.475</td>\n",
       "      <td>1</td>\n",
       "      <td>0.0337</td>\n",
       "      <td>0.018</td>\n",
       "      <td>0.107000</td>\n",
       "      <td>0.1760</td>\n",
       "      <td>0.797</td>\n",
       "      <td>101.801</td>\n",
       "      <td>213613</td>\n",
       "      <td>4</td>\n",
       "      <td>48.82510</td>\n",
       "      <td>10</td>\n",
       "      <td>60</td>\n",
       "      <td>0</td>\n",
       "    </tr>\n",
       "    <tr>\n",
       "      <th>2</th>\n",
       "      <td>Melody Twist</td>\n",
       "      <td>Lord Melody</td>\n",
       "      <td>spotify:track:6uk8tI6pwxxdVTNlNOJeJh</td>\n",
       "      <td>0.657</td>\n",
       "      <td>0.649</td>\n",
       "      <td>5</td>\n",
       "      <td>-13.392</td>\n",
       "      <td>1</td>\n",
       "      <td>0.0380</td>\n",
       "      <td>0.846</td>\n",
       "      <td>0.000004</td>\n",
       "      <td>0.1190</td>\n",
       "      <td>0.908</td>\n",
       "      <td>115.940</td>\n",
       "      <td>223960</td>\n",
       "      <td>4</td>\n",
       "      <td>37.22663</td>\n",
       "      <td>12</td>\n",
       "      <td>60</td>\n",
       "      <td>0</td>\n",
       "    </tr>\n",
       "    <tr>\n",
       "      <th>3</th>\n",
       "      <td>Mi Bomba Sonó</td>\n",
       "      <td>Celia Cruz</td>\n",
       "      <td>spotify:track:7aNjMJ05FvUXACPWZ7yJmv</td>\n",
       "      <td>0.590</td>\n",
       "      <td>0.545</td>\n",
       "      <td>7</td>\n",
       "      <td>-12.058</td>\n",
       "      <td>0</td>\n",
       "      <td>0.1040</td>\n",
       "      <td>0.706</td>\n",
       "      <td>0.024600</td>\n",
       "      <td>0.0610</td>\n",
       "      <td>0.967</td>\n",
       "      <td>105.592</td>\n",
       "      <td>157907</td>\n",
       "      <td>4</td>\n",
       "      <td>24.75484</td>\n",
       "      <td>8</td>\n",
       "      <td>60</td>\n",
       "      <td>0</td>\n",
       "    </tr>\n",
       "    <tr>\n",
       "      <th>4</th>\n",
       "      <td>Uravu Solla</td>\n",
       "      <td>P. Susheela</td>\n",
       "      <td>spotify:track:1rQ0clvgkzWr001POOPJWx</td>\n",
       "      <td>0.515</td>\n",
       "      <td>0.765</td>\n",
       "      <td>11</td>\n",
       "      <td>-3.515</td>\n",
       "      <td>0</td>\n",
       "      <td>0.1240</td>\n",
       "      <td>0.857</td>\n",
       "      <td>0.000872</td>\n",
       "      <td>0.2130</td>\n",
       "      <td>0.906</td>\n",
       "      <td>114.617</td>\n",
       "      <td>245600</td>\n",
       "      <td>4</td>\n",
       "      <td>21.79874</td>\n",
       "      <td>14</td>\n",
       "      <td>60</td>\n",
       "      <td>0</td>\n",
       "    </tr>\n",
       "  </tbody>\n",
       "</table>\n",
       "</div>"
      ],
      "text/plain": [
       "                   track            artist  \\\n",
       "0  Jealous Kind Of Fella     Garland Green   \n",
       "1          Initials B.B.  Serge Gainsbourg   \n",
       "2           Melody Twist       Lord Melody   \n",
       "3          Mi Bomba Sonó        Celia Cruz   \n",
       "4            Uravu Solla       P. Susheela   \n",
       "\n",
       "                                    uri  danceability  energy  key  loudness  \\\n",
       "0  spotify:track:1dtKN6wwlolkM8XZy2y9C1         0.417   0.620    3    -7.727   \n",
       "1  spotify:track:5hjsmSnUefdUqzsDogisiX         0.498   0.505    3   -12.475   \n",
       "2  spotify:track:6uk8tI6pwxxdVTNlNOJeJh         0.657   0.649    5   -13.392   \n",
       "3  spotify:track:7aNjMJ05FvUXACPWZ7yJmv         0.590   0.545    7   -12.058   \n",
       "4  spotify:track:1rQ0clvgkzWr001POOPJWx         0.515   0.765   11    -3.515   \n",
       "\n",
       "   mode  speechiness  acousticness  instrumentalness  liveness  valence  \\\n",
       "0     1       0.0403         0.490          0.000000    0.0779    0.845   \n",
       "1     1       0.0337         0.018          0.107000    0.1760    0.797   \n",
       "2     1       0.0380         0.846          0.000004    0.1190    0.908   \n",
       "3     0       0.1040         0.706          0.024600    0.0610    0.967   \n",
       "4     0       0.1240         0.857          0.000872    0.2130    0.906   \n",
       "\n",
       "     tempo  duration_ms  time_signature  chorus_hit  sections  decade  is_hit  \n",
       "0  185.655       173533               3    32.94975         9      60       1  \n",
       "1  101.801       213613               4    48.82510        10      60       0  \n",
       "2  115.940       223960               4    37.22663        12      60       0  \n",
       "3  105.592       157907               4    24.75484         8      60       0  \n",
       "4  114.617       245600               4    21.79874        14      60       0  "
      ]
     },
     "execution_count": 1,
     "metadata": {},
     "output_type": "execute_result"
    }
   ],
   "source": [
    "df = pd.DataFrame()\n",
    "for decade in ['60', '70', '80', '90', '00', '10']:\n",
    "    url = f'https://raw.githubusercontent.com/fortyTwo102/The-Spotify-Hit-Predictor-Dataset/master/dataset-of-{decade}s.csv'\n",
    "    new_data = pd.read_csv(url)\n",
    "    new_data['decade'] = int(decade)\n",
    "    new_data['is_hit'] = new_data['target']\n",
    "    new_data = new_data.drop(columns=['target'])\n",
    "    df = df.append(new_data)\n",
    "\n",
    "df.head()"
   ]
  },
  {
   "cell_type": "code",
   "execution_count": 2,
   "metadata": {},
   "outputs": [
    {
     "data": {
      "text/plain": [
       "(41106, 20)"
      ]
     },
     "execution_count": 2,
     "metadata": {},
     "output_type": "execute_result"
    }
   ],
   "source": [
    "df.shape"
   ]
  },
  {
   "cell_type": "markdown",
   "metadata": {},
   "source": [
    "# Supporting functions"
   ]
  },
  {
   "cell_type": "code",
   "execution_count": 130,
   "metadata": {},
   "outputs": [],
   "source": [
    "''' print metrics and confusion matrix '''\n",
    "from sklearn.metrics import accuracy_score, recall_score, precision_score, f1_score\n",
    "from sklearn.metrics import confusion_matrix\n",
    "\n",
    "def get_metrics(test_y, preds):\n",
    "    print(\"Accuracy: \", accuracy_score(test_y, preds))\n",
    "    print(\"Precision: \", precision_score(test_y, preds))\n",
    "    print(\"Recall: \", recall_score(test_y, preds))\n",
    "    print(\"F1: \", f1_score(test_y, preds))\n",
    "\n",
    "def get_cm(test_y, preds):\n",
    "    cm=confusion_matrix(test_y, preds)\n",
    "    sns.heatmap(cm,cmap='BuPu',annot=True,fmt='d', xticklabels=['not a hit', 'hit'], yticklabels=['not a hit', 'hit'])"
   ]
  },
  {
   "cell_type": "code",
   "execution_count": 131,
   "metadata": {},
   "outputs": [],
   "source": [
    "# train test split \n",
    "from sklearn.model_selection import train_test_split\n",
    "\n",
    "X = df[['danceability', 'energy', 'mode', 'speechiness', 'acousticness', 'instrumentalness', 'liveness',\n",
    "            'valence', 'tempo', 'duration_ms', 'time_signature', 'chorus_hit',\n",
    "            'sections', 'decade']]\n",
    "y = df.iloc[:, -1]\n",
    "\n",
    "train_X, test_X, train_y, test_y = train_test_split(X,y,test_size=0.2,random_state=45,stratify=y)"
   ]
  },
  {
   "cell_type": "code",
   "execution_count": 133,
   "metadata": {},
   "outputs": [],
   "source": [
    "'''mean and std for cv folds'''\n",
    "\n",
    "def cv_results(grid_search): \n",
    "    cv_results = grid_search.cv_results_\n",
    "\n",
    "    mean_test_score = cv_results['mean_test_score'][grid_search.best_index_]\n",
    "    std_test_score = cv_results['std_test_score'][grid_search.best_index_]\n",
    "\n",
    "    print(\"mean test score:\", mean_test_score)\n",
    "    print(\"std test score:\", std_test_score)\n"
   ]
  },
  {
   "cell_type": "markdown",
   "metadata": {},
   "source": [
    "# Baseline - Logistic Regression \n",
    "\n",
    "### From proposal\n"
   ]
  },
  {
   "cell_type": "code",
   "execution_count": 223,
   "metadata": {},
   "outputs": [],
   "source": [
    "from sklearn.linear_model import LogisticRegression"
   ]
  },
  {
   "cell_type": "code",
   "execution_count": 224,
   "metadata": {},
   "outputs": [],
   "source": [
    "lr_clf = LogisticRegression()\n",
    "lr_clf.fit(train_X, train_y)\n",
    "\n",
    "# Make predictions on the test data\n",
    "lr_preds = lr_clf.predict(test_X)"
   ]
  },
  {
   "cell_type": "code",
   "execution_count": 225,
   "metadata": {},
   "outputs": [
    {
     "name": "stdout",
     "output_type": "stream",
     "text": [
      "Accuracy:  0.5143517392361956\n",
      "Precision:  0.5137914913510987\n",
      "Recall:  0.5346630990026757\n",
      "F1:  0.5240195494099417\n"
     ]
    },
    {
     "data": {
      "image/png": "[encoded data removed]",
      "text/plain": [
       "<Figure size 432x288 with 2 Axes>"
      ]
     },
     "metadata": {
      "needs_background": "light"
     },
     "output_type": "display_data"
    }
   ],
   "source": [
    "get_metrics(test_y, lr_preds)\n",
    "get_cm(test_y, lr_preds)"
   ]
  },
  {
   "cell_type": "markdown",
   "metadata": {},
   "source": [
    "# Logistic Regression with L1 (lasso) Regularization - l2 ridge is default"
   ]
  },
  {
   "cell_type": "code",
   "execution_count": 226,
   "metadata": {},
   "outputs": [],
   "source": [
    "l1_lr_clf = LogisticRegression(penalty='l1', solver='liblinear')\n",
    "l1_lr_clf.fit(train_X, train_y)\n",
    "\n",
    "# Make predictions on the test data\n",
    "lr_l1_preds = l1_lr_clf.predict(test_X)"
   ]
  },
  {
   "cell_type": "code",
   "execution_count": 227,
   "metadata": {},
   "outputs": [
    {
     "name": "stdout",
     "output_type": "stream",
     "text": [
      "Accuracy:  0.7209924592556556\n",
      "Precision:  0.6882901554404145\n",
      "Recall:  0.8078326441255169\n",
      "F1:  0.7432855863921217\n"
     ]
    },
    {
     "data": {
      "image/png": "[encoded data removed]",
      "text/plain": [
       "<Figure size 432x288 with 2 Axes>"
      ]
     },
     "metadata": {
      "needs_background": "light"
     },
     "output_type": "display_data"
    }
   ],
   "source": [
    "get_metrics(test_y, lr_l1_preds)\n",
    "get_cm(test_y, lr_l1_preds)"
   ]
  },
  {
   "cell_type": "markdown",
   "metadata": {},
   "source": [
    "Try scaling data - log reg usually needs scaling"
   ]
  },
  {
   "cell_type": "code",
   "execution_count": 228,
   "metadata": {},
   "outputs": [
    {
     "data": {
      "text/plain": [
       "{'C': 29.763514416313132}"
      ]
     },
     "execution_count": 228,
     "metadata": {},
     "output_type": "execute_result"
    }
   ],
   "source": [
    "from sklearn.preprocessing import StandardScaler\n",
    "from sklearn.model_selection import GridSearchCV\n",
    "scaler = StandardScaler()  \n",
    "scaler.fit(train_X)  \n",
    "\n",
    "scaled_train_X = scaler.transform(train_X)  \n",
    "scaled_test_X = scaler.transform(test_X)  \n",
    "\n",
    "param_grid = {\n",
    "    'C': np.logspace(-4, 4, 20)\n",
    "}\n",
    "\n",
    "lr_l1_clf = LogisticRegression(penalty='l1', solver='liblinear')\n",
    "\n",
    "lr_grid_search = GridSearchCV(lr_l1_clf, param_grid, cv=5, scoring='accuracy')\n",
    "lr_grid_search.fit(scaled_train_X, train_y)\n",
    "\n",
    "lr_l1_preds = lr_grid_search.predict(scaled_test_X)\n",
    "\n",
    "lr_grid_search.best_params_"
   ]
  },
  {
   "cell_type": "code",
   "execution_count": 229,
   "metadata": {},
   "outputs": [
    {
     "name": "stdout",
     "output_type": "stream",
     "text": [
      "mean test score: 0.7228136732852486\n",
      "std test score: 0.0061710902799025835\n"
     ]
    }
   ],
   "source": [
    "cv_results(lr_grid_search)"
   ]
  },
  {
   "cell_type": "code",
   "execution_count": 230,
   "metadata": {},
   "outputs": [
    {
     "name": "stdout",
     "output_type": "stream",
     "text": [
      "Accuracy:  0.7206275845293116\n",
      "Precision:  0.6882523868825239\n",
      "Recall:  0.8066163950377038\n",
      "F1:  0.7427483480792922\n"
     ]
    },
    {
     "data": {
      "image/png": "[encoded data removed]",
      "text/plain": [
       "<Figure size 432x288 with 2 Axes>"
      ]
     },
     "metadata": {
      "needs_background": "light"
     },
     "output_type": "display_data"
    }
   ],
   "source": [
    "lr_grid_search.fit(scaled_train_X, train_y)\n",
    "\n",
    "# Make predictions on the test data\n",
    "lr_l1_preds = lr_grid_search.predict(scaled_test_X)\n",
    "\n",
    "get_metrics(test_y, lr_l1_preds)\n",
    "get_cm(test_y, lr_l1_preds)"
   ]
  },
  {
   "cell_type": "markdown",
   "metadata": {},
   "source": [
    "Essentially the same as the empty lasso LR model"
   ]
  },
  {
   "cell_type": "markdown",
   "metadata": {},
   "source": [
    "Beats the baseline logistic regression"
   ]
  },
  {
   "cell_type": "markdown",
   "metadata": {},
   "source": [
    "# Naive Bayes"
   ]
  },
  {
   "cell_type": "code",
   "execution_count": 142,
   "metadata": {},
   "outputs": [],
   "source": [
    "from sklearn.naive_bayes import GaussianNB"
   ]
  },
  {
   "cell_type": "code",
   "execution_count": 143,
   "metadata": {},
   "outputs": [
    {
     "name": "stdout",
     "output_type": "stream",
     "text": [
      "Accuracy:  0.5919484310386767\n",
      "Precision:  0.5556537102473498\n",
      "Recall:  0.9180248114813914\n",
      "F1:  0.692286526644043\n"
     ]
    },
    {
     "data": {
      "image/png": "[encoded data removed]",
      "text/plain": [
       "<Figure size 432x288 with 2 Axes>"
      ]
     },
     "metadata": {
      "needs_background": "light"
     },
     "output_type": "display_data"
    }
   ],
   "source": [
    "# empty model\n",
    "nb_clf = GaussianNB()\n",
    "nb_clf.fit(train_X, train_y)\n",
    "nb_preds = nb_clf.predict(test_X)\n",
    "\n",
    "get_metrics(test_y, nb_preds)\n",
    "get_cm(test_y, nb_preds)"
   ]
  },
  {
   "cell_type": "code",
   "execution_count": 144,
   "metadata": {},
   "outputs": [
    {
     "data": {
      "text/plain": [
       "{'var_smoothing': 2.310129700083158e-05}"
      ]
     },
     "execution_count": 144,
     "metadata": {},
     "output_type": "execute_result"
    }
   ],
   "source": [
    "# parameter tuning\n",
    "import numpy as np \n",
    "\n",
    "param_grid = {'var_smoothing': np.logspace(0,-9, num=100)} #https://www.kaggle.com/code/akshaysharma001/naive-bayes-with-hyperpameter-tuning#kln-196\n",
    "\n",
    "# try scaling \n",
    "scaler = StandardScaler()  \n",
    "scaler.fit(train_X)  \n",
    "\n",
    "scaled_train_X = scaler.transform(train_X)  \n",
    "scaled_test_X = scaler.transform(test_X)  \n",
    "\n",
    "nb_clf = GaussianNB()\n",
    "\n",
    "nb_grid_search = GridSearchCV(nb_clf, param_grid, cv=5, scoring='accuracy')\n",
    "nb_grid_search.fit(scaled_train_X, train_y)\n",
    "\n",
    "nb_preds = nb_grid_search.predict(scaled_test_X)\n",
    "\n",
    "nb_grid_search.best_params_"
   ]
  },
  {
   "cell_type": "code",
   "execution_count": 145,
   "metadata": {},
   "outputs": [
    {
     "name": "stdout",
     "output_type": "stream",
     "text": [
      "mean test score: 0.7100413934203357\n",
      "std test score: 0.0035550231015557534\n"
     ]
    }
   ],
   "source": [
    "cv_results(nb_grid_search)"
   ]
  },
  {
   "cell_type": "code",
   "execution_count": 146,
   "metadata": {},
   "outputs": [
    {
     "name": "stdout",
     "output_type": "stream",
     "text": [
      "Accuracy:  0.7051812211140842\n",
      "Precision:  0.6559437973747458\n",
      "Recall:  0.8630503527122355\n",
      "F1:  0.7453781512605043\n"
     ]
    },
    {
     "data": {
      "image/png": "[encoded data removed]",
      "text/plain": [
       "<Figure size 432x288 with 2 Axes>"
      ]
     },
     "metadata": {
      "needs_background": "light"
     },
     "output_type": "display_data"
    }
   ],
   "source": [
    "get_metrics(test_y, nb_preds)\n",
    "get_cm(test_y, nb_preds)"
   ]
  },
  {
   "cell_type": "markdown",
   "metadata": {},
   "source": [
    "in some metrics it is better (marginally)"
   ]
  },
  {
   "cell_type": "markdown",
   "metadata": {},
   "source": [
    "# Decision Tree"
   ]
  },
  {
   "cell_type": "code",
   "execution_count": 147,
   "metadata": {},
   "outputs": [],
   "source": [
    "from sklearn.tree import DecisionTreeClassifier\n",
    "from sklearn.model_selection import GridSearchCV"
   ]
  },
  {
   "cell_type": "code",
   "execution_count": 148,
   "metadata": {},
   "outputs": [
    {
     "name": "stdout",
     "output_type": "stream",
     "text": [
      "Accuracy:  0.7135733398199952\n",
      "Precision:  0.7145650048875856\n",
      "Recall:  0.7112624665531501\n",
      "F1:  0.7129099110081677\n"
     ]
    },
    {
     "data": {
      "image/png": "[encoded data removed]",
      "text/plain": [
       "<Figure size 432x288 with 2 Axes>"
      ]
     },
     "metadata": {
      "needs_background": "light"
     },
     "output_type": "display_data"
    }
   ],
   "source": [
    "# empty model \n",
    "tree_clf = DecisionTreeClassifier()\n",
    "tree_clf.fit(train_X, train_y)\n",
    "tree_preds = tree_clf.predict(test_X)\n",
    "\n",
    "get_metrics(test_y, tree_preds)\n",
    "get_cm(test_y, tree_preds)"
   ]
  },
  {
   "cell_type": "markdown",
   "metadata": {},
   "source": [
    "for computation sake, only test out a few params in the reasonable range of values"
   ]
  },
  {
   "cell_type": "code",
   "execution_count": 149,
   "metadata": {},
   "outputs": [
    {
     "data": {
      "text/plain": [
       "{'criterion': 'gini',\n",
       " 'max_depth': 10,\n",
       " 'min_samples_leaf': 6,\n",
       " 'min_samples_split': 2}"
      ]
     },
     "execution_count": 149,
     "metadata": {},
     "output_type": "execute_result"
    }
   ],
   "source": [
    "# parameter tuning\n",
    "param_grid = {\n",
    "    'criterion': ['gini', 'entropy', 'log_loss'],\n",
    "    'max_depth': [3, 5, 10, 20],\n",
    "    'min_samples_leaf': [1, 2, 6 ],  # overfit with >10,\n",
    "    'min_samples_split': [2, 4, 6] # overfit with >10,\n",
    "}\n",
    "\n",
    "\n",
    "tree_clf = DecisionTreeClassifier()\n",
    "\n",
    "# perform the grid search using 5-fold cross validation\n",
    "tree_grid_search = GridSearchCV(tree_clf, param_grid, cv=5, scoring='accuracy')\n",
    "tree_grid_search.fit(X, y)\n",
    "\n",
    "tree_preds = tree_grid_search.predict(test_X)\n",
    "\n",
    "tree_grid_search.best_params_"
   ]
  },
  {
   "cell_type": "code",
   "execution_count": 150,
   "metadata": {},
   "outputs": [
    {
     "name": "stdout",
     "output_type": "stream",
     "text": [
      "mean test score: 0.7387742102880323\n",
      "std test score: 0.03951958374222001\n"
     ]
    }
   ],
   "source": [
    "cv_results(tree_grid_search)"
   ]
  },
  {
   "cell_type": "code",
   "execution_count": 151,
   "metadata": {},
   "outputs": [
    {
     "name": "stdout",
     "output_type": "stream",
     "text": [
      "Accuracy:  0.8021162734127949\n",
      "Precision:  0.7495980707395499\n",
      "Recall:  0.9073218195086353\n",
      "F1:  0.8209530097942115\n"
     ]
    },
    {
     "data": {
      "image/png": "[encoded data removed]",
      "text/plain": [
       "<Figure size 432x288 with 2 Axes>"
      ]
     },
     "metadata": {
      "needs_background": "light"
     },
     "output_type": "display_data"
    }
   ],
   "source": [
    "get_metrics(test_y, tree_preds)\n",
    "get_cm(test_y, tree_preds)"
   ]
  },
  {
   "cell_type": "markdown",
   "metadata": {},
   "source": [
    "New best "
   ]
  },
  {
   "cell_type": "markdown",
   "metadata": {},
   "source": [
    "# Random Forest "
   ]
  },
  {
   "cell_type": "code",
   "execution_count": 152,
   "metadata": {},
   "outputs": [],
   "source": [
    "from sklearn.ensemble import RandomForestClassifier\n",
    "from sklearn.model_selection import GridSearchCV"
   ]
  },
  {
   "cell_type": "code",
   "execution_count": 153,
   "metadata": {},
   "outputs": [
    {
     "name": "stdout",
     "output_type": "stream",
     "text": [
      "Accuracy:  0.7926295305278521\n",
      "Precision:  0.7639315489249671\n",
      "Recall:  0.8469958647531014\n",
      "F1:  0.8033221824893299\n"
     ]
    },
    {
     "data": {
      "image/png": "[encoded data removed]",
      "text/plain": [
       "<Figure size 432x288 with 2 Axes>"
      ]
     },
     "metadata": {
      "needs_background": "light"
     },
     "output_type": "display_data"
    }
   ],
   "source": [
    "# empty model\n",
    "rf_clf = RandomForestClassifier()\n",
    "rf_clf.fit(train_X, train_y)\n",
    "rf_preds = rf_clf.predict(test_X)\n",
    "\n",
    "get_metrics(test_y, rf_preds)\n",
    "get_cm(test_y, rf_preds)"
   ]
  },
  {
   "cell_type": "code",
   "execution_count": 154,
   "metadata": {},
   "outputs": [
    {
     "data": {
      "text/plain": [
       "{'criterion': 'log_loss',\n",
       " 'max_depth': 20,\n",
       " 'min_samples_leaf': 1,\n",
       " 'min_samples_split': 2}"
      ]
     },
     "execution_count": 154,
     "metadata": {},
     "output_type": "execute_result"
    }
   ],
   "source": [
    "# parameter tuning\n",
    "\n",
    "# use same grid as for decision tree \n",
    "param_grid = {\n",
    "    'criterion': ['gini', 'entropy', 'log_loss'],\n",
    "    'max_depth': [3, 5, 10, 20],\n",
    "    'min_samples_leaf': [1, 2, 6 ],  # overfit with >10,\n",
    "    'min_samples_split': [2, 4, 6] # overfit with >10,\n",
    "}\n",
    "\n",
    "\n",
    "rf_clf = RandomForestClassifier()\n",
    "\n",
    "# perform the grid search using 5-fold cross validation\n",
    "rf_grid_search = GridSearchCV(rf_clf, param_grid, cv=5, scoring='accuracy')\n",
    "rf_grid_search.fit(X, y)\n",
    "\n",
    "rf_preds = rf_grid_search.predict(test_X)\n",
    "\n",
    "rf_grid_search.best_params_"
   ]
  },
  {
   "cell_type": "code",
   "execution_count": 155,
   "metadata": {},
   "outputs": [
    {
     "name": "stdout",
     "output_type": "stream",
     "text": [
      "mean test score: 0.7712518364680683\n",
      "std test score: 0.04902046208296997\n"
     ]
    }
   ],
   "source": [
    "cv_results(rf_grid_search)"
   ]
  },
  {
   "cell_type": "code",
   "execution_count": 157,
   "metadata": {},
   "outputs": [
    {
     "name": "stdout",
     "output_type": "stream",
     "text": [
      "Accuracy:  0.9549987837509122\n",
      "Precision:  0.9174291452800715\n",
      "Recall:  1.0\n",
      "F1:  0.9569366852886407\n"
     ]
    },
    {
     "data": {
      "image/png": "[encoded data removed]",
      "text/plain": [
       "<Figure size 432x288 with 2 Axes>"
      ]
     },
     "metadata": {
      "needs_background": "light"
     },
     "output_type": "display_data"
    }
   ],
   "source": [
    "get_metrics(test_y, rf_preds)\n",
    "get_cm(test_y, rf_preds)"
   ]
  },
  {
   "cell_type": "markdown",
   "metadata": {},
   "source": [
    "by far the best performing model"
   ]
  },
  {
   "cell_type": "code",
   "execution_count": null,
   "metadata": {},
   "outputs": [],
   "source": []
  },
  {
   "cell_type": "markdown",
   "metadata": {},
   "source": [
    "# Neural Network\n",
    "\n",
    "for testing out diff settings, params, num layers, optimizer, etc we just used trial and error, no algorithmic approach"
   ]
  },
  {
   "cell_type": "markdown",
   "metadata": {},
   "source": [
    "# Pytorch\n",
    "\n",
    "Followed this tutorial: https://towardsdatascience.com/pytorch-tabular-binary-classification-a0368da5bb89\n",
    "\n",
    "Was clearer than the pytorch tutorial offered in class"
   ]
  },
  {
   "cell_type": "code",
   "execution_count": 204,
   "metadata": {},
   "outputs": [],
   "source": [
    "import torch\n",
    "import torch.nn as nn\n",
    "import torch.optim as optim\n",
    "from torch.utils.data import Dataset, DataLoader\n",
    "\n",
    "from sklearn.preprocessing import StandardScaler    "
   ]
  },
  {
   "cell_type": "code",
   "execution_count": 205,
   "metadata": {},
   "outputs": [],
   "source": [
    "# scale data \n",
    "scaler = StandardScaler()\n",
    "X_train = scaler.fit_transform(train_X)\n",
    "X_test = scaler.transform(test_X)\n",
    "\n",
    "# settings \n",
    "BATCH_SIZE = 64"
   ]
  },
  {
   "cell_type": "code",
   "execution_count": 206,
   "metadata": {},
   "outputs": [],
   "source": [
    "class TrainData(Dataset):\n",
    "    \n",
    "    def __init__(self, X_data, y_data):\n",
    "        self.X_data = X_data\n",
    "        self.y_data = y_data\n",
    "        \n",
    "    def __getitem__(self, index):\n",
    "        return self.X_data[index], self.y_data[index]\n",
    "        \n",
    "    def __len__ (self):\n",
    "        return len(self.X_data)\n",
    "\n",
    "class TestData(Dataset):\n",
    "    \n",
    "    def __init__(self, X_data):\n",
    "        self.X_data = X_data\n",
    "        \n",
    "    def __getitem__(self, index):\n",
    "        return self.X_data[index]\n",
    "        \n",
    "    def __len__ (self):\n",
    "        return len(self.X_data)\n",
    "    "
   ]
  },
  {
   "cell_type": "code",
   "execution_count": 207,
   "metadata": {},
   "outputs": [],
   "source": [
    "train_data = TrainData(torch.Tensor(X_train), torch.Tensor(train_y.to_numpy()))\n",
    "test_data = TestData(torch.FloatTensor(X_test))\n",
    "\n",
    "train_loader = DataLoader(dataset=train_data, batch_size=BATCH_SIZE, shuffle=True)\n",
    "test_loader = DataLoader(dataset=test_data, batch_size=1)"
   ]
  },
  {
   "cell_type": "code",
   "execution_count": 208,
   "metadata": {},
   "outputs": [],
   "source": [
    "def binary_acc(y_pred, y_test):\n",
    "    y_pred_tag = torch.round(torch.sigmoid(y_pred))\n",
    "\n",
    "    correct_results_sum = (y_pred_tag == y_test).sum().float()\n",
    "    acc = correct_results_sum/y_test.shape[0]\n",
    "    acc = torch.round(acc * 100)\n",
    "    \n",
    "    return acc"
   ]
  },
  {
   "cell_type": "markdown",
   "metadata": {},
   "source": [
    "## build model structure\n",
    "\n",
    "start with testing out diff num of layers and neuron sizes then fix the model arch to do cv on other parameters"
   ]
  },
  {
   "cell_type": "code",
   "execution_count": 209,
   "metadata": {},
   "outputs": [],
   "source": [
    "class BinaryClassification(nn.Module):\n",
    "    def __init__(self):\n",
    "        super(BinaryClassification, self).__init__()\n",
    "        \n",
    "        # Number of input features is 14.\n",
    "        self.layer_1 = nn.Linear(14, 10) \n",
    "        self.layer_2 = nn.Linear(10, 10)\n",
    "        self.layer_3 = nn.Linear(10, 30)\n",
    "        self.layer_4 = nn.Linear(30, 60)\n",
    "        self.layer_5 = nn.Linear(60, 60)\n",
    "        self.layer_6 = nn.Linear(60, 60)\n",
    "        self.layer_out = nn.Linear(60, 1) \n",
    "        \n",
    "        self.relu = nn.ReLU()\n",
    "        self.dropout = nn.Dropout(p=0.1)\n",
    "        \n",
    "        \n",
    "    def forward(self, inputs):\n",
    "        x = self.relu(self.layer_1(inputs))\n",
    "        x = self.relu(self.layer_2(x))\n",
    "        x = self.relu(self.layer_3(x))\n",
    "        x = self.relu(self.layer_4(x))\n",
    "        x = self.relu(self.layer_5(x))\n",
    "        x = self.relu(self.layer_6(x))\n",
    "        x = self.dropout(x)\n",
    "        x = self.layer_out(x)\n",
    "        \n",
    "        return x\n"
   ]
  },
  {
   "cell_type": "code",
   "execution_count": 212,
   "metadata": {},
   "outputs": [
    {
     "name": "stdout",
     "output_type": "stream",
     "text": [
      "BinaryClassification(\n",
      "  (layer_1): Linear(in_features=14, out_features=10, bias=True)\n",
      "  (layer_2): Linear(in_features=10, out_features=10, bias=True)\n",
      "  (layer_3): Linear(in_features=10, out_features=30, bias=True)\n",
      "  (layer_4): Linear(in_features=30, out_features=60, bias=True)\n",
      "  (layer_5): Linear(in_features=60, out_features=60, bias=True)\n",
      "  (layer_6): Linear(in_features=60, out_features=60, bias=True)\n",
      "  (layer_out): Linear(in_features=60, out_features=1, bias=True)\n",
      "  (relu): ReLU()\n",
      "  (dropout): Dropout(p=0.1, inplace=False)\n",
      ")\n"
     ]
    }
   ],
   "source": [
    "device = torch.device(\"cuda:0\" if torch.cuda.is_available() else \"cpu\")\n",
    "\n",
    "LEARNING_RATE = 0.001\n",
    "\n",
    "model = BinaryClassification()\n",
    "model.to(device)\n",
    "print(model)\n",
    "criterion = nn.BCEWithLogitsLoss()\n",
    "\n",
    "optimizer = optim.SGD(model.parameters(), lr=LEARNING_RATE)\n"
   ]
  },
  {
   "cell_type": "code",
   "execution_count": 213,
   "metadata": {},
   "outputs": [
    {
     "name": "stdout",
     "output_type": "stream",
     "text": [
      "Epoch 001: | Loss: 0.69401 | Acc: 49.981\n",
      "Epoch 002: | Loss: 0.69370 | Acc: 50.004\n",
      "Epoch 003: | Loss: 0.69357 | Acc: 50.010\n",
      "Epoch 004: | Loss: 0.69344 | Acc: 49.992\n",
      "Epoch 005: | Loss: 0.69338 | Acc: 49.998\n",
      "Epoch 006: | Loss: 0.69330 | Acc: 49.988\n",
      "Epoch 007: | Loss: 0.69326 | Acc: 49.973\n",
      "Epoch 008: | Loss: 0.69322 | Acc: 50.053\n",
      "Epoch 009: | Loss: 0.69318 | Acc: 50.148\n",
      "Epoch 010: | Loss: 0.69322 | Acc: 49.558\n",
      "Epoch 011: | Loss: 0.69322 | Acc: 49.539\n",
      "Epoch 012: | Loss: 0.69320 | Acc: 49.897\n",
      "Epoch 013: | Loss: 0.69313 | Acc: 49.874\n",
      "Epoch 014: | Loss: 0.69319 | Acc: 49.702\n",
      "Epoch 015: | Loss: 0.69313 | Acc: 50.815\n",
      "Epoch 016: | Loss: 0.69317 | Acc: 49.977\n",
      "Epoch 017: | Loss: 0.69316 | Acc: 49.942\n",
      "Epoch 018: | Loss: 0.69313 | Acc: 50.874\n",
      "Epoch 019: | Loss: 0.69316 | Acc: 50.831\n",
      "Epoch 020: | Loss: 0.69314 | Acc: 49.982\n",
      "Epoch 021: | Loss: 0.69315 | Acc: 49.860\n",
      "Epoch 022: | Loss: 0.69312 | Acc: 50.307\n",
      "Epoch 023: | Loss: 0.69313 | Acc: 50.574\n",
      "Epoch 024: | Loss: 0.69309 | Acc: 50.685\n",
      "Epoch 025: | Loss: 0.69310 | Acc: 50.451\n",
      "Epoch 026: | Loss: 0.69309 | Acc: 50.418\n",
      "Epoch 027: | Loss: 0.69311 | Acc: 50.451\n",
      "Epoch 028: | Loss: 0.69315 | Acc: 50.078\n",
      "Epoch 029: | Loss: 0.69315 | Acc: 50.232\n",
      "Epoch 030: | Loss: 0.69315 | Acc: 50.056\n",
      "Epoch 031: | Loss: 0.69311 | Acc: 50.418\n",
      "Epoch 032: | Loss: 0.69314 | Acc: 50.167\n",
      "Epoch 033: | Loss: 0.69305 | Acc: 50.821\n",
      "Epoch 034: | Loss: 0.69305 | Acc: 51.068\n",
      "Epoch 035: | Loss: 0.69305 | Acc: 51.045\n",
      "Epoch 036: | Loss: 0.69308 | Acc: 50.790\n",
      "Epoch 037: | Loss: 0.69307 | Acc: 50.792\n",
      "Epoch 038: | Loss: 0.69311 | Acc: 50.562\n",
      "Epoch 039: | Loss: 0.69307 | Acc: 50.658\n",
      "Epoch 040: | Loss: 0.69312 | Acc: 50.654\n",
      "Epoch 041: | Loss: 0.69304 | Acc: 51.152\n",
      "Epoch 042: | Loss: 0.69308 | Acc: 50.770\n",
      "Epoch 043: | Loss: 0.69309 | Acc: 50.772\n",
      "Epoch 044: | Loss: 0.69309 | Acc: 50.652\n",
      "Epoch 045: | Loss: 0.69303 | Acc: 51.163\n",
      "Epoch 046: | Loss: 0.69306 | Acc: 50.593\n",
      "Epoch 047: | Loss: 0.69302 | Acc: 51.263\n",
      "Epoch 048: | Loss: 0.69304 | Acc: 50.971\n",
      "Epoch 049: | Loss: 0.69306 | Acc: 50.807\n",
      "Epoch 050: | Loss: 0.69307 | Acc: 50.854\n"
     ]
    }
   ],
   "source": [
    "EPOCHS = 50 \n",
    "\n",
    "model.train()\n",
    "for e in range(1, EPOCHS+1):\n",
    "    epoch_loss = 0\n",
    "    epoch_acc = 0\n",
    "    for X_batch, y_batch in train_loader:\n",
    "        X_batch, y_batch = X_batch.to(device), y_batch.to(device)\n",
    "        optimizer.zero_grad()\n",
    "        \n",
    "        y_pred = model(X_batch)\n",
    "        \n",
    "        loss = criterion(y_pred, y_batch.unsqueeze(1))\n",
    "        acc = binary_acc(y_pred, y_batch.unsqueeze(1))\n",
    "        \n",
    "        loss.backward()\n",
    "        optimizer.step()\n",
    "        \n",
    "        epoch_loss += loss.item()\n",
    "        epoch_acc += acc.item()\n",
    "        \n",
    "\n",
    "    print(f'Epoch {e+0:03}: | Loss: {epoch_loss/len(train_loader):.5f} | Acc: {epoch_acc/len(train_loader):.3f}')\n",
    "\n",
    "nn_preds = []\n",
    "model.eval()\n",
    "with torch.no_grad():\n",
    "    for X_batch in test_loader:\n",
    "        X_batch = X_batch.to(device)\n",
    "        y_test_pred = model(X_batch)\n",
    "        y_test_pred = torch.sigmoid(y_test_pred)\n",
    "        y_pred_tag = torch.round(y_test_pred)\n",
    "        nn_preds.append(y_pred_tag.cpu().numpy())\n",
    "\n",
    "nn_preds = [a.squeeze().tolist() for a in nn_preds]"
   ]
  },
  {
   "cell_type": "code",
   "execution_count": 214,
   "metadata": {},
   "outputs": [
    {
     "name": "stdout",
     "output_type": "stream",
     "text": [
      "Accuracy:  0.55996108002919\n",
      "Precision:  0.5429218178652272\n",
      "Recall:  0.7584529311603017\n",
      "F1:  0.6328394560584535\n"
     ]
    },
    {
     "data": {
      "image/png": "[encoded data removed]",
      "text/plain": [
       "<Figure size 432x288 with 2 Axes>"
      ]
     },
     "metadata": {
      "needs_background": "light"
     },
     "output_type": "display_data"
    }
   ],
   "source": [
    "get_metrics(test_y, nn_preds)\n",
    "get_cm(test_y, nn_preds)"
   ]
  },
  {
   "cell_type": "markdown",
   "metadata": {},
   "source": [
    "## CV w fixed model arch"
   ]
  },
  {
   "cell_type": "code",
   "execution_count": 215,
   "metadata": {},
   "outputs": [],
   "source": [
    "# model class \n",
    "class BinaryClassification(nn.Module):\n",
    "    def __init__(self, learning_rate, optimizer, weight_decay):\n",
    "        super(BinaryClassification, self).__init__()\n",
    "        \n",
    "        # Number of input features is 14.\n",
    "        self.layer_1 = nn.Linear(14, 10) \n",
    "        self.layer_2 = nn.Linear(10, 10)\n",
    "        self.layer_3 = nn.Linear(10, 30)\n",
    "        self.layer_4 = nn.Linear(30, 60)\n",
    "        self.layer_5 = nn.Linear(60, 60)\n",
    "        self.layer_6 = nn.Linear(60, 60)\n",
    "        self.layer_out = nn.Linear(60, 1) \n",
    "        \n",
    "        self.relu = nn.ReLU()\n",
    "        self.dropout = nn.Dropout(p=0.1)\n",
    "\n",
    "        # set params \n",
    "        self.learning_rate = learning_rate\n",
    "        self.optimizer = optimizer\n",
    "        self.weight_decay = weight_decay\n",
    "        \n",
    "        \n",
    "    def forward(self, inputs):\n",
    "        x = self.relu(self.layer_1(inputs))\n",
    "        x = self.relu(self.layer_2(x))\n",
    "        x = self.relu(self.layer_3(x))\n",
    "        x = self.relu(self.layer_4(x))\n",
    "        x = self.relu(self.layer_5(x))\n",
    "        x = self.relu(self.layer_6(x))\n",
    "        x = self.dropout(x)\n",
    "        x = self.layer_out(x)\n",
    "        \n",
    "        return x\n",
    "\n",
    "    # fit, predict and score functions for gridsearchcv\n",
    "    def fit(self, X, y):\n",
    "        train_data = TrainData(torch.Tensor(X), torch.Tensor(y.values.ravel()))\n",
    "        train_loader = DataLoader(dataset=train_data, batch_size=BATCH_SIZE, shuffle=True)\n",
    "        \n",
    "        device = torch.device(\"cuda:0\" if torch.cuda.is_available() else \"cpu\")\n",
    "        self.to(device)\n",
    "        \n",
    "        criterion = nn.BCEWithLogitsLoss()\n",
    "        optimizer = self.optimizer(self.parameters(), lr=self.learning_rate, weight_decay = self.weight_decay)\n",
    "\n",
    "        EPOCHS = 50\n",
    "\n",
    "        self.train()\n",
    "        for e in range(1, EPOCHS+1):\n",
    "            epoch_loss = 0\n",
    "            epoch_acc = 0\n",
    "            for X_batch, y_batch in train_loader:\n",
    "                X_batch, y_batch = X_batch.to(device), y_batch.to(device)\n",
    "                optimizer.zero_grad()\n",
    "                \n",
    "                y_pred = self(X_batch)\n",
    "                \n",
    "                loss = criterion(y_pred, y_batch.unsqueeze(1))\n",
    "                acc = binary_acc(y_pred, y_batch.unsqueeze(1))\n",
    "                \n",
    "                loss.backward()\n",
    "                optimizer.step()\n",
    "                \n",
    "                epoch_loss += loss.item()\n",
    "                epoch_acc += acc.item()\n",
    "\n",
    "    def predict(self, X):\n",
    "        device = torch.device(\"cuda:0\" if torch.cuda.is_available() else \"cpu\")\n",
    "\n",
    "        test_data = TestData(torch.FloatTensor(X_test))\n",
    "        test_loader = DataLoader(dataset=test_data, batch_size=1)\n",
    "        \n",
    "        nn_preds = []\n",
    "        self.eval()\n",
    "        with torch.no_grad():\n",
    "            for X_batch in test_loader:\n",
    "                X_batch = X_batch.to(device)\n",
    "                y_test_pred = self(X_batch)\n",
    "                y_test_pred = torch.sigmoid(y_test_pred)\n",
    "                y_pred_tag = torch.round(y_test_pred)\n",
    "                nn_preds.append(y_pred_tag.cpu().numpy())\n",
    "\n",
    "        nn_preds = [a.squeeze().tolist() for a in nn_preds]\n",
    "        # nn_preds = torch.tensor(nn_preds)  \n",
    "        return nn_preds\n",
    "\n",
    "\n",
    "\n",
    "    def score(self, X, y):\n",
    "        y_pred = self.predict(X_test)\n",
    "        return accuracy_score(test_y, y_pred)\n",
    "\n",
    "    # get and set params like in scikit\n",
    "    def get_params(self, deep = True):\n",
    "        return {\n",
    "            'learning_rate': self.learning_rate,\n",
    "            'optimizer': self.optimizer,\n",
    "            'weight_decay': self.weight_decay\n",
    "        }\n",
    "    \n",
    "    def set_params(self, **params):\n",
    "        self.learning_rate = params['learning_rate']\n",
    "        self.optimizer = params['optimizer']\n",
    "        self.weight_decay = params['weight_decay']\n",
    "        return self\n",
    "        "
   ]
  },
  {
   "cell_type": "code",
   "execution_count": 216,
   "metadata": {},
   "outputs": [
    {
     "data": {
      "text/plain": [
       "{'learning_rate': 0.001,\n",
       " 'optimizer': torch.optim.adam.Adam,\n",
       " 'weight_decay': 0.0}"
      ]
     },
     "execution_count": 216,
     "metadata": {},
     "output_type": "execute_result"
    }
   ],
   "source": [
    "param_grid = {\n",
    "    'learning_rate': [0.1, 0.01, 0.001],\n",
    "    'optimizer': [optim.SGD, optim.Adam],\n",
    "    'weight_decay': [0.0, 0.01] # regularization strength \n",
    "}\n",
    "\n",
    "model = BinaryClassification(learning_rate=0.01, optimizer=optim.SGD, weight_decay=0.0) # initialize w defaults\n",
    "nn_grid_search = GridSearchCV(estimator=model, param_grid=param_grid, cv=5)\n",
    "nn_grid_search.fit(X_train, train_y)\n",
    "\n",
    "nn_preds = nn_grid_search.predict(X_test)\n",
    "\n",
    "nn_grid_search.best_params_"
   ]
  },
  {
   "cell_type": "code",
   "execution_count": 219,
   "metadata": {},
   "outputs": [
    {
     "name": "stdout",
     "output_type": "stream",
     "text": [
      "mean test score: 0.7880077839941619\n",
      "std test score: 0.0019184377672712518\n"
     ]
    }
   ],
   "source": [
    "cv_results(nn_grid_search)"
   ]
  },
  {
   "cell_type": "code",
   "execution_count": 220,
   "metadata": {},
   "outputs": [
    {
     "name": "stdout",
     "output_type": "stream",
     "text": [
      "Accuracy:  0.788007783994162\n",
      "Precision:  0.7557235421166306\n",
      "Recall:  0.8511311116516662\n",
      "F1:  0.8005948976089692\n"
     ]
    },
    {
     "data": {
      "image/png": "[encoded data removed]",
      "text/plain": [
       "<Figure size 432x288 with 2 Axes>"
      ]
     },
     "metadata": {
      "needs_background": "light"
     },
     "output_type": "display_data"
    }
   ],
   "source": [
    "get_metrics(test_y, nn_preds)\n",
    "get_cm(test_y, nn_preds)"
   ]
  },
  {
   "cell_type": "code",
   "execution_count": null,
   "metadata": {},
   "outputs": [],
   "source": []
  },
  {
   "cell_type": "markdown",
   "metadata": {},
   "source": [
    "# Results"
   ]
  },
  {
   "cell_type": "code",
   "execution_count": 231,
   "metadata": {},
   "outputs": [
    {
     "data": {
      "text/html": [
       "<div>\n",
       "<style scoped>\n",
       "    .dataframe tbody tr th:only-of-type {\n",
       "        vertical-align: middle;\n",
       "    }\n",
       "\n",
       "    .dataframe tbody tr th {\n",
       "        vertical-align: top;\n",
       "    }\n",
       "\n",
       "    .dataframe thead th {\n",
       "        text-align: right;\n",
       "    }\n",
       "</style>\n",
       "<table border=\"1\" class=\"dataframe\">\n",
       "  <thead>\n",
       "    <tr style=\"text-align: right;\">\n",
       "      <th></th>\n",
       "      <th>Model</th>\n",
       "      <th>Accuracy</th>\n",
       "      <th>Precision</th>\n",
       "      <th>Recall</th>\n",
       "      <th>F1</th>\n",
       "    </tr>\n",
       "  </thead>\n",
       "  <tbody>\n",
       "    <tr>\n",
       "      <th>0</th>\n",
       "      <td>Logistic Regression - Baseline</td>\n",
       "      <td>0.514352</td>\n",
       "      <td>0.513791</td>\n",
       "      <td>0.534663</td>\n",
       "      <td>0.524020</td>\n",
       "    </tr>\n",
       "    <tr>\n",
       "      <th>1</th>\n",
       "      <td>Lasso Logistic Regression</td>\n",
       "      <td>0.720628</td>\n",
       "      <td>0.688252</td>\n",
       "      <td>0.806616</td>\n",
       "      <td>0.742748</td>\n",
       "    </tr>\n",
       "    <tr>\n",
       "      <th>2</th>\n",
       "      <td>Naive Bayes</td>\n",
       "      <td>0.705181</td>\n",
       "      <td>0.655944</td>\n",
       "      <td>0.863050</td>\n",
       "      <td>0.745378</td>\n",
       "    </tr>\n",
       "    <tr>\n",
       "      <th>3</th>\n",
       "      <td>Decision Tree</td>\n",
       "      <td>0.802116</td>\n",
       "      <td>0.749598</td>\n",
       "      <td>0.907322</td>\n",
       "      <td>0.820953</td>\n",
       "    </tr>\n",
       "    <tr>\n",
       "      <th>4</th>\n",
       "      <td>Random Forest</td>\n",
       "      <td>0.954999</td>\n",
       "      <td>0.917429</td>\n",
       "      <td>1.000000</td>\n",
       "      <td>0.956937</td>\n",
       "    </tr>\n",
       "    <tr>\n",
       "      <th>5</th>\n",
       "      <td>Neural Net</td>\n",
       "      <td>0.788008</td>\n",
       "      <td>0.755724</td>\n",
       "      <td>0.851131</td>\n",
       "      <td>0.800595</td>\n",
       "    </tr>\n",
       "  </tbody>\n",
       "</table>\n",
       "</div>"
      ],
      "text/plain": [
       "                            Model  Accuracy  Precision    Recall        F1\n",
       "0  Logistic Regression - Baseline  0.514352   0.513791  0.534663  0.524020\n",
       "1       Lasso Logistic Regression  0.720628   0.688252  0.806616  0.742748\n",
       "2                     Naive Bayes  0.705181   0.655944  0.863050  0.745378\n",
       "3                   Decision Tree  0.802116   0.749598  0.907322  0.820953\n",
       "4                   Random Forest  0.954999   0.917429  1.000000  0.956937\n",
       "5                      Neural Net  0.788008   0.755724  0.851131  0.800595"
      ]
     },
     "execution_count": 231,
     "metadata": {},
     "output_type": "execute_result"
    }
   ],
   "source": [
    "results = pd.DataFrame()\n",
    "\n",
    "model_preds = {'Logistic Regression - Baseline' : lr_preds\n",
    "            , 'Lasso Logistic Regression' : lr_l1_preds\n",
    "            , 'Naive Bayes': nb_preds\n",
    "            , 'Decision Tree': tree_preds\n",
    "            , 'Random Forest': rf_preds\n",
    "            , 'Neural Net': nn_preds}\n",
    "\n",
    "for model in model_preds.keys():\n",
    "\n",
    "    preds = model_preds[model]\n",
    "\n",
    "    results = results.append({'Model':model\n",
    "                , 'Accuracy': accuracy_score(test_y, preds)\n",
    "                , 'Precision': precision_score(test_y, preds)\n",
    "                , 'Recall': recall_score(test_y, preds)\n",
    "                , 'F1': f1_score(test_y, preds)}\n",
    "                , ignore_index=True)\n",
    "\n",
    "results[['Model', 'Accuracy', 'Precision', 'Recall', 'F1']]"
   ]
  },
  {
   "cell_type": "markdown",
   "metadata": {},
   "source": [
    "Determine best by accuracy since data is balanced "
   ]
  },
  {
   "cell_type": "code",
   "execution_count": 232,
   "metadata": {},
   "outputs": [
    {
     "data": {
      "text/html": [
       "<div>\n",
       "<style scoped>\n",
       "    .dataframe tbody tr th:only-of-type {\n",
       "        vertical-align: middle;\n",
       "    }\n",
       "\n",
       "    .dataframe tbody tr th {\n",
       "        vertical-align: top;\n",
       "    }\n",
       "\n",
       "    .dataframe thead th {\n",
       "        text-align: right;\n",
       "    }\n",
       "</style>\n",
       "<table border=\"1\" class=\"dataframe\">\n",
       "  <thead>\n",
       "    <tr style=\"text-align: right;\">\n",
       "      <th></th>\n",
       "      <th>Model</th>\n",
       "      <th>Precision</th>\n",
       "      <th>Recall</th>\n",
       "      <th>F1</th>\n",
       "      <th>Accuracy</th>\n",
       "    </tr>\n",
       "  </thead>\n",
       "  <tbody>\n",
       "    <tr>\n",
       "      <th>4</th>\n",
       "      <td>Random Forest</td>\n",
       "      <td>0.917429</td>\n",
       "      <td>1.000000</td>\n",
       "      <td>0.956937</td>\n",
       "      <td>0.954999</td>\n",
       "    </tr>\n",
       "    <tr>\n",
       "      <th>3</th>\n",
       "      <td>Decision Tree</td>\n",
       "      <td>0.749598</td>\n",
       "      <td>0.907322</td>\n",
       "      <td>0.820953</td>\n",
       "      <td>0.802116</td>\n",
       "    </tr>\n",
       "    <tr>\n",
       "      <th>5</th>\n",
       "      <td>Neural Net</td>\n",
       "      <td>0.755724</td>\n",
       "      <td>0.851131</td>\n",
       "      <td>0.800595</td>\n",
       "      <td>0.788008</td>\n",
       "    </tr>\n",
       "    <tr>\n",
       "      <th>1</th>\n",
       "      <td>Lasso Logistic Regression</td>\n",
       "      <td>0.688252</td>\n",
       "      <td>0.806616</td>\n",
       "      <td>0.742748</td>\n",
       "      <td>0.720628</td>\n",
       "    </tr>\n",
       "    <tr>\n",
       "      <th>2</th>\n",
       "      <td>Naive Bayes</td>\n",
       "      <td>0.655944</td>\n",
       "      <td>0.863050</td>\n",
       "      <td>0.745378</td>\n",
       "      <td>0.705181</td>\n",
       "    </tr>\n",
       "    <tr>\n",
       "      <th>0</th>\n",
       "      <td>Logistic Regression - Baseline</td>\n",
       "      <td>0.513791</td>\n",
       "      <td>0.534663</td>\n",
       "      <td>0.524020</td>\n",
       "      <td>0.514352</td>\n",
       "    </tr>\n",
       "  </tbody>\n",
       "</table>\n",
       "</div>"
      ],
      "text/plain": [
       "                            Model  Precision    Recall        F1  Accuracy\n",
       "4                   Random Forest   0.917429  1.000000  0.956937  0.954999\n",
       "3                   Decision Tree   0.749598  0.907322  0.820953  0.802116\n",
       "5                      Neural Net   0.755724  0.851131  0.800595  0.788008\n",
       "1       Lasso Logistic Regression   0.688252  0.806616  0.742748  0.720628\n",
       "2                     Naive Bayes   0.655944  0.863050  0.745378  0.705181\n",
       "0  Logistic Regression - Baseline   0.513791  0.534663  0.524020  0.514352"
      ]
     },
     "execution_count": 232,
     "metadata": {},
     "output_type": "execute_result"
    }
   ],
   "source": [
    "results[['Model', 'Precision', 'Recall', 'F1', 'Accuracy']].sort_values(by=['Accuracy'], ascending=False)"
   ]
  },
  {
   "cell_type": "markdown",
   "metadata": {},
   "source": [
    "interestingly both f1 and accuracy are ordered the same "
   ]
  },
  {
   "cell_type": "markdown",
   "metadata": {},
   "source": []
  }
 ],
 "metadata": {
  "interpreter": {
   "hash": "2bf6ca1cf4bbd55d2457dc6e8fa83213c9fcabf0e2c24ef39d0aa93ae406cc9a"
  },
  "kernelspec": {
   "display_name": "Python 3.8.5 ('av')",
   "language": "python",
   "name": "python3"
  },
  "language_info": {
   "codemirror_mode": {
    "name": "ipython",
    "version": 3
   },
   "file_extension": ".py",
   "mimetype": "text/x-python",
   "name": "python",
   "nbconvert_exporter": "python",
   "pygments_lexer": "ipython3",
   "version": "3.8.5"
  },
  "orig_nbformat": 4
 },
 "nbformat": 4,
 "nbformat_minor": 2
}
